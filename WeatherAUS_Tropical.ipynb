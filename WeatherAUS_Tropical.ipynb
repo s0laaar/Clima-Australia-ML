{
 "cells": [
  {
   "cell_type": "markdown",
   "id": "DKw9YV763quu",
   "metadata": {
    "id": "DKw9YV763quu"
   },
   "source": [
    "\n",
    "\n",
    "---\n",
    "\n"
   ]
  },
  {
   "cell_type": "markdown",
   "id": "4Z04V36p3iPI",
   "metadata": {
    "id": "4Z04V36p3iPI"
   },
   "source": [
    "# Rain in Austrlia"
   ]
  },
  {
   "cell_type": "markdown",
   "id": "72h3PzCbD-k_",
   "metadata": {
    "id": "72h3PzCbD-k_"
   },
   "source": [
    "##### En Primer lugar importamos las librerias a utilizar"
   ]
  },
  {
   "cell_type": "code",
   "execution_count": null,
   "id": "00b569ba",
   "metadata": {
    "id": "00b569ba"
   },
   "outputs": [],
   "source": [
    "import pandas as pd\n",
    "import numpy as np\n",
    "import matplotlib.pyplot as plt\n",
    "import seaborn as sns\n",
    "from sklearn import preprocessing\n",
    "from sklearn.impute import KNNImputer"
   ]
  },
  {
   "cell_type": "markdown",
   "id": "cf56L4E63wU6",
   "metadata": {
    "id": "cf56L4E63wU6"
   },
   "source": [
    "\n",
    "\n",
    "---\n",
    "\n"
   ]
  },
  {
   "cell_type": "markdown",
   "id": "4999e998-33f7-41f6-9aaa-c92537360992",
   "metadata": {
    "id": "4999e998-33f7-41f6-9aaa-c92537360992"
   },
   "source": [
    "#![](https://gostudyaus.es/wp-content/uploads/2019/05/SP_MAP-CLIMATE-AUSTRALIA-1024x720.jpg)"
   ]
  },
  {
   "cell_type": "markdown",
   "id": "IjCqs-xI3xnl",
   "metadata": {
    "id": "IjCqs-xI3xnl"
   },
   "source": [
    "\n",
    "\n",
    "---\n",
    "\n"
   ]
  },
  {
   "cell_type": "markdown",
   "id": "RP_uxongmvnm",
   "metadata": {
    "id": "RP_uxongmvnm"
   },
   "source": [
    "###Cargamos el dataset a utilizar, en este caso clima austral"
   ]
  },
  {
   "cell_type": "code",
   "execution_count": null,
   "id": "71327f01-6274-404e-8643-2082b9732f74",
   "metadata": {
    "id": "71327f01-6274-404e-8643-2082b9732f74"
   },
   "outputs": [],
   "source": [
    "df= pd.read_csv('weatherAUS.csv')"
   ]
  },
  {
   "cell_type": "markdown",
   "id": "_6Uw3z6rnGNJ",
   "metadata": {
    "id": "_6Uw3z6rnGNJ"
   },
   "source": [
    "###Como grupo nos basaremos en la metodología CRIP-DM que desarrollaremos a continuación.\n",
    "![CRISP-DM.png](data:image/png;base64,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)"
   ]
  },
  {
   "cell_type": "markdown",
   "id": "00cI7TyKoeMB",
   "metadata": {
    "id": "00cI7TyKoeMB"
   },
   "source": [
    "###Para comenzar deberemos comprender la data (Data Understanding).\n",
    "###El dataset entregado registra el clima de australia, este contiene registros diarios del clima entre los años 2007 y 2017 dentro del los distintos estados del país."
   ]
  },
  {
   "cell_type": "code",
   "execution_count": null,
   "id": "p1vpfCk8IfEz",
   "metadata": {
    "colab": {
     "base_uri": "https://localhost:8080/",
     "height": 35
    },
    "id": "p1vpfCk8IfEz",
    "outputId": "c8a9f125-c83e-4e88-a724-015b4f7234f5"
   },
   "outputs": [
    {
     "data": {
      "application/vnd.google.colaboratory.intrinsic+json": {
       "type": "string"
      },
      "text/plain": [
       "'2007-11-01'"
      ]
     },
     "execution_count": 4,
     "metadata": {},
     "output_type": "execute_result"
    }
   ],
   "source": [
    "df.Date.min()"
   ]
  },
  {
   "cell_type": "code",
   "execution_count": null,
   "id": "XqyYUvJIImTk",
   "metadata": {
    "colab": {
     "base_uri": "https://localhost:8080/",
     "height": 35
    },
    "id": "XqyYUvJIImTk",
    "outputId": "45de9bcb-e052-4384-a6e4-57ccdf097a82"
   },
   "outputs": [
    {
     "data": {
      "application/vnd.google.colaboratory.intrinsic+json": {
       "type": "string"
      },
      "text/plain": [
       "'2017-06-25'"
      ]
     },
     "execution_count": 5,
     "metadata": {},
     "output_type": "execute_result"
    }
   ],
   "source": [
    "df.Date.max()"
   ]
  },
  {
   "cell_type": "code",
   "execution_count": null,
   "id": "005fbcb1-237c-49a0-8551-8911b3227468",
   "metadata": {
    "colab": {
     "base_uri": "https://localhost:8080/",
     "height": 630
    },
    "id": "005fbcb1-237c-49a0-8551-8911b3227468",
    "outputId": "7bcf49cd-0216-4d14-c1cd-37df9e566c15"
   },
   "outputs": [
    {
     "data": {
      "text/html": [
       "\n",
       "  <div id=\"df-d7ddfb07-770d-4525-be3e-cb416a8bd4f3\">\n",
       "    <div class=\"colab-df-container\">\n",
       "      <div>\n",
       "<style scoped>\n",
       "    .dataframe tbody tr th:only-of-type {\n",
       "        vertical-align: middle;\n",
       "    }\n",
       "\n",
       "    .dataframe tbody tr th {\n",
       "        vertical-align: top;\n",
       "    }\n",
       "\n",
       "    .dataframe thead th {\n",
       "        text-align: right;\n",
       "    }\n",
       "</style>\n",
       "<table border=\"1\" class=\"dataframe\">\n",
       "  <thead>\n",
       "    <tr style=\"text-align: right;\">\n",
       "      <th></th>\n",
       "      <th>Date</th>\n",
       "      <th>Location</th>\n",
       "      <th>MinTemp</th>\n",
       "      <th>MaxTemp</th>\n",
       "      <th>Rainfall</th>\n",
       "      <th>Evaporation</th>\n",
       "      <th>Sunshine</th>\n",
       "      <th>WindGustDir</th>\n",
       "      <th>WindGustSpeed</th>\n",
       "      <th>WindDir9am</th>\n",
       "      <th>...</th>\n",
       "      <th>Humidity3pm</th>\n",
       "      <th>Pressure9am</th>\n",
       "      <th>Pressure3pm</th>\n",
       "      <th>Cloud9am</th>\n",
       "      <th>Cloud3pm</th>\n",
       "      <th>Temp9am</th>\n",
       "      <th>Temp3pm</th>\n",
       "      <th>RainToday</th>\n",
       "      <th>RISK_MM</th>\n",
       "      <th>RainTomorrow</th>\n",
       "    </tr>\n",
       "  </thead>\n",
       "  <tbody>\n",
       "    <tr>\n",
       "      <th>9670</th>\n",
       "      <td>2011-01-15</td>\n",
       "      <td>CoffsHarbour</td>\n",
       "      <td>19.5</td>\n",
       "      <td>27.1</td>\n",
       "      <td>0.0</td>\n",
       "      <td>5.4</td>\n",
       "      <td>10.7</td>\n",
       "      <td>NE</td>\n",
       "      <td>35.0</td>\n",
       "      <td>N</td>\n",
       "      <td>...</td>\n",
       "      <td>67.0</td>\n",
       "      <td>1009.9</td>\n",
       "      <td>1007.9</td>\n",
       "      <td>7.0</td>\n",
       "      <td>4.0</td>\n",
       "      <td>24.6</td>\n",
       "      <td>26.0</td>\n",
       "      <td>No</td>\n",
       "      <td>0.0</td>\n",
       "      <td>No</td>\n",
       "    </tr>\n",
       "    <tr>\n",
       "      <th>41484</th>\n",
       "      <td>2009-03-29</td>\n",
       "      <td>Wollongong</td>\n",
       "      <td>17.6</td>\n",
       "      <td>24.0</td>\n",
       "      <td>0.0</td>\n",
       "      <td>NaN</td>\n",
       "      <td>NaN</td>\n",
       "      <td>N</td>\n",
       "      <td>33.0</td>\n",
       "      <td>NE</td>\n",
       "      <td>...</td>\n",
       "      <td>72.0</td>\n",
       "      <td>1023.0</td>\n",
       "      <td>1021.2</td>\n",
       "      <td>NaN</td>\n",
       "      <td>NaN</td>\n",
       "      <td>20.8</td>\n",
       "      <td>22.9</td>\n",
       "      <td>No</td>\n",
       "      <td>0.0</td>\n",
       "      <td>No</td>\n",
       "    </tr>\n",
       "    <tr>\n",
       "      <th>90947</th>\n",
       "      <td>2009-04-04</td>\n",
       "      <td>Townsville</td>\n",
       "      <td>20.6</td>\n",
       "      <td>31.7</td>\n",
       "      <td>0.0</td>\n",
       "      <td>6.2</td>\n",
       "      <td>10.7</td>\n",
       "      <td>NE</td>\n",
       "      <td>31.0</td>\n",
       "      <td>E</td>\n",
       "      <td>...</td>\n",
       "      <td>60.0</td>\n",
       "      <td>1013.1</td>\n",
       "      <td>1009.9</td>\n",
       "      <td>4.0</td>\n",
       "      <td>2.0</td>\n",
       "      <td>28.6</td>\n",
       "      <td>30.3</td>\n",
       "      <td>No</td>\n",
       "      <td>0.0</td>\n",
       "      <td>No</td>\n",
       "    </tr>\n",
       "    <tr>\n",
       "      <th>9789</th>\n",
       "      <td>2011-06-13</td>\n",
       "      <td>CoffsHarbour</td>\n",
       "      <td>12.6</td>\n",
       "      <td>18.2</td>\n",
       "      <td>103.4</td>\n",
       "      <td>NaN</td>\n",
       "      <td>0.2</td>\n",
       "      <td>WSW</td>\n",
       "      <td>48.0</td>\n",
       "      <td>SW</td>\n",
       "      <td>...</td>\n",
       "      <td>83.0</td>\n",
       "      <td>1016.8</td>\n",
       "      <td>1014.2</td>\n",
       "      <td>8.0</td>\n",
       "      <td>7.0</td>\n",
       "      <td>15.0</td>\n",
       "      <td>14.9</td>\n",
       "      <td>Yes</td>\n",
       "      <td>127.6</td>\n",
       "      <td>Yes</td>\n",
       "    </tr>\n",
       "    <tr>\n",
       "      <th>125550</th>\n",
       "      <td>2014-04-22</td>\n",
       "      <td>Walpole</td>\n",
       "      <td>8.7</td>\n",
       "      <td>20.0</td>\n",
       "      <td>0.0</td>\n",
       "      <td>NaN</td>\n",
       "      <td>NaN</td>\n",
       "      <td>NNW</td>\n",
       "      <td>33.0</td>\n",
       "      <td>NNW</td>\n",
       "      <td>...</td>\n",
       "      <td>55.0</td>\n",
       "      <td>1020.9</td>\n",
       "      <td>1018.2</td>\n",
       "      <td>NaN</td>\n",
       "      <td>NaN</td>\n",
       "      <td>13.9</td>\n",
       "      <td>18.4</td>\n",
       "      <td>No</td>\n",
       "      <td>0.0</td>\n",
       "      <td>No</td>\n",
       "    </tr>\n",
       "    <tr>\n",
       "      <th>55967</th>\n",
       "      <td>2015-06-20</td>\n",
       "      <td>Ballarat</td>\n",
       "      <td>-0.4</td>\n",
       "      <td>8.5</td>\n",
       "      <td>0.6</td>\n",
       "      <td>NaN</td>\n",
       "      <td>NaN</td>\n",
       "      <td>S</td>\n",
       "      <td>30.0</td>\n",
       "      <td>SSE</td>\n",
       "      <td>...</td>\n",
       "      <td>75.0</td>\n",
       "      <td>1027.5</td>\n",
       "      <td>1026.7</td>\n",
       "      <td>4.0</td>\n",
       "      <td>7.0</td>\n",
       "      <td>4.0</td>\n",
       "      <td>8.2</td>\n",
       "      <td>No</td>\n",
       "      <td>0.2</td>\n",
       "      <td>No</td>\n",
       "    </tr>\n",
       "    <tr>\n",
       "      <th>7683</th>\n",
       "      <td>2014-01-14</td>\n",
       "      <td>Cobar</td>\n",
       "      <td>25.7</td>\n",
       "      <td>39.6</td>\n",
       "      <td>0.0</td>\n",
       "      <td>12.8</td>\n",
       "      <td>NaN</td>\n",
       "      <td>NE</td>\n",
       "      <td>43.0</td>\n",
       "      <td>NE</td>\n",
       "      <td>...</td>\n",
       "      <td>12.0</td>\n",
       "      <td>1016.5</td>\n",
       "      <td>1013.8</td>\n",
       "      <td>0.0</td>\n",
       "      <td>1.0</td>\n",
       "      <td>30.8</td>\n",
       "      <td>38.1</td>\n",
       "      <td>No</td>\n",
       "      <td>0.0</td>\n",
       "      <td>No</td>\n",
       "    </tr>\n",
       "    <tr>\n",
       "      <th>96953</th>\n",
       "      <td>2008-12-08</td>\n",
       "      <td>MountGambier</td>\n",
       "      <td>11.1</td>\n",
       "      <td>21.0</td>\n",
       "      <td>0.0</td>\n",
       "      <td>4.0</td>\n",
       "      <td>9.4</td>\n",
       "      <td>SSW</td>\n",
       "      <td>35.0</td>\n",
       "      <td>WNW</td>\n",
       "      <td>...</td>\n",
       "      <td>42.0</td>\n",
       "      <td>1015.3</td>\n",
       "      <td>1011.0</td>\n",
       "      <td>7.0</td>\n",
       "      <td>6.0</td>\n",
       "      <td>13.9</td>\n",
       "      <td>20.4</td>\n",
       "      <td>No</td>\n",
       "      <td>0.4</td>\n",
       "      <td>No</td>\n",
       "    </tr>\n",
       "    <tr>\n",
       "      <th>9086</th>\n",
       "      <td>2009-06-10</td>\n",
       "      <td>CoffsHarbour</td>\n",
       "      <td>6.4</td>\n",
       "      <td>18.9</td>\n",
       "      <td>0.0</td>\n",
       "      <td>1.8</td>\n",
       "      <td>9.5</td>\n",
       "      <td>NaN</td>\n",
       "      <td>NaN</td>\n",
       "      <td>NW</td>\n",
       "      <td>...</td>\n",
       "      <td>26.0</td>\n",
       "      <td>1015.0</td>\n",
       "      <td>1012.3</td>\n",
       "      <td>1.0</td>\n",
       "      <td>1.0</td>\n",
       "      <td>14.4</td>\n",
       "      <td>18.0</td>\n",
       "      <td>No</td>\n",
       "      <td>0.0</td>\n",
       "      <td>No</td>\n",
       "    </tr>\n",
       "    <tr>\n",
       "      <th>17052</th>\n",
       "      <td>2015-09-02</td>\n",
       "      <td>Newcastle</td>\n",
       "      <td>6.0</td>\n",
       "      <td>20.5</td>\n",
       "      <td>0.0</td>\n",
       "      <td>NaN</td>\n",
       "      <td>NaN</td>\n",
       "      <td>NaN</td>\n",
       "      <td>NaN</td>\n",
       "      <td>NW</td>\n",
       "      <td>...</td>\n",
       "      <td>NaN</td>\n",
       "      <td>NaN</td>\n",
       "      <td>NaN</td>\n",
       "      <td>4.0</td>\n",
       "      <td>NaN</td>\n",
       "      <td>15.0</td>\n",
       "      <td>NaN</td>\n",
       "      <td>No</td>\n",
       "      <td>3.0</td>\n",
       "      <td>Yes</td>\n",
       "    </tr>\n",
       "  </tbody>\n",
       "</table>\n",
       "<p>10 rows × 24 columns</p>\n",
       "</div>\n",
       "      <button class=\"colab-df-convert\" onclick=\"convertToInteractive('df-d7ddfb07-770d-4525-be3e-cb416a8bd4f3')\"\n",
       "              title=\"Convert this dataframe to an interactive table.\"\n",
       "              style=\"display:none;\">\n",
       "        \n",
       "  <svg xmlns=\"http://www.w3.org/2000/svg\" height=\"24px\"viewBox=\"0 0 24 24\"\n",
       "       width=\"24px\">\n",
       "    <path d=\"M0 0h24v24H0V0z\" fill=\"none\"/>\n",
       "    <path d=\"M18.56 5.44l.94 2.06.94-2.06 2.06-.94-2.06-.94-.94-2.06-.94 2.06-2.06.94zm-11 1L8.5 8.5l.94-2.06 2.06-.94-2.06-.94L8.5 2.5l-.94 2.06-2.06.94zm10 10l.94 2.06.94-2.06 2.06-.94-2.06-.94-.94-2.06-.94 2.06-2.06.94z\"/><path d=\"M17.41 7.96l-1.37-1.37c-.4-.4-.92-.59-1.43-.59-.52 0-1.04.2-1.43.59L10.3 9.45l-7.72 7.72c-.78.78-.78 2.05 0 2.83L4 21.41c.39.39.9.59 1.41.59.51 0 1.02-.2 1.41-.59l7.78-7.78 2.81-2.81c.8-.78.8-2.07 0-2.86zM5.41 20L4 18.59l7.72-7.72 1.47 1.35L5.41 20z\"/>\n",
       "  </svg>\n",
       "      </button>\n",
       "      \n",
       "  <style>\n",
       "    .colab-df-container {\n",
       "      display:flex;\n",
       "      flex-wrap:wrap;\n",
       "      gap: 12px;\n",
       "    }\n",
       "\n",
       "    .colab-df-convert {\n",
       "      background-color: #E8F0FE;\n",
       "      border: none;\n",
       "      border-radius: 50%;\n",
       "      cursor: pointer;\n",
       "      display: none;\n",
       "      fill: #1967D2;\n",
       "      height: 32px;\n",
       "      padding: 0 0 0 0;\n",
       "      width: 32px;\n",
       "    }\n",
       "\n",
       "    .colab-df-convert:hover {\n",
       "      background-color: #E2EBFA;\n",
       "      box-shadow: 0px 1px 2px rgba(60, 64, 67, 0.3), 0px 1px 3px 1px rgba(60, 64, 67, 0.15);\n",
       "      fill: #174EA6;\n",
       "    }\n",
       "\n",
       "    [theme=dark] .colab-df-convert {\n",
       "      background-color: #3B4455;\n",
       "      fill: #D2E3FC;\n",
       "    }\n",
       "\n",
       "    [theme=dark] .colab-df-convert:hover {\n",
       "      background-color: #434B5C;\n",
       "      box-shadow: 0px 1px 3px 1px rgba(0, 0, 0, 0.15);\n",
       "      filter: drop-shadow(0px 1px 2px rgba(0, 0, 0, 0.3));\n",
       "      fill: #FFFFFF;\n",
       "    }\n",
       "  </style>\n",
       "\n",
       "      <script>\n",
       "        const buttonEl =\n",
       "          document.querySelector('#df-d7ddfb07-770d-4525-be3e-cb416a8bd4f3 button.colab-df-convert');\n",
       "        buttonEl.style.display =\n",
       "          google.colab.kernel.accessAllowed ? 'block' : 'none';\n",
       "\n",
       "        async function convertToInteractive(key) {\n",
       "          const element = document.querySelector('#df-d7ddfb07-770d-4525-be3e-cb416a8bd4f3');\n",
       "          const dataTable =\n",
       "            await google.colab.kernel.invokeFunction('convertToInteractive',\n",
       "                                                     [key], {});\n",
       "          if (!dataTable) return;\n",
       "\n",
       "          const docLinkHtml = 'Like what you see? Visit the ' +\n",
       "            '<a target=\"_blank\" href=https://colab.research.google.com/notebooks/data_table.ipynb>data table notebook</a>'\n",
       "            + ' to learn more about interactive tables.';\n",
       "          element.innerHTML = '';\n",
       "          dataTable['output_type'] = 'display_data';\n",
       "          await google.colab.output.renderOutput(dataTable, element);\n",
       "          const docLink = document.createElement('div');\n",
       "          docLink.innerHTML = docLinkHtml;\n",
       "          element.appendChild(docLink);\n",
       "        }\n",
       "      </script>\n",
       "    </div>\n",
       "  </div>\n",
       "  "
      ],
      "text/plain": [
       "              Date      Location  MinTemp  MaxTemp  Rainfall  Evaporation  \\\n",
       "9670    2011-01-15  CoffsHarbour     19.5     27.1       0.0          5.4   \n",
       "41484   2009-03-29    Wollongong     17.6     24.0       0.0          NaN   \n",
       "90947   2009-04-04    Townsville     20.6     31.7       0.0          6.2   \n",
       "9789    2011-06-13  CoffsHarbour     12.6     18.2     103.4          NaN   \n",
       "125550  2014-04-22       Walpole      8.7     20.0       0.0          NaN   \n",
       "55967   2015-06-20      Ballarat     -0.4      8.5       0.6          NaN   \n",
       "7683    2014-01-14         Cobar     25.7     39.6       0.0         12.8   \n",
       "96953   2008-12-08  MountGambier     11.1     21.0       0.0          4.0   \n",
       "9086    2009-06-10  CoffsHarbour      6.4     18.9       0.0          1.8   \n",
       "17052   2015-09-02     Newcastle      6.0     20.5       0.0          NaN   \n",
       "\n",
       "        Sunshine WindGustDir  WindGustSpeed WindDir9am  ... Humidity3pm  \\\n",
       "9670        10.7          NE           35.0          N  ...        67.0   \n",
       "41484        NaN           N           33.0         NE  ...        72.0   \n",
       "90947       10.7          NE           31.0          E  ...        60.0   \n",
       "9789         0.2         WSW           48.0         SW  ...        83.0   \n",
       "125550       NaN         NNW           33.0        NNW  ...        55.0   \n",
       "55967        NaN           S           30.0        SSE  ...        75.0   \n",
       "7683         NaN          NE           43.0         NE  ...        12.0   \n",
       "96953        9.4         SSW           35.0        WNW  ...        42.0   \n",
       "9086         9.5         NaN            NaN         NW  ...        26.0   \n",
       "17052        NaN         NaN            NaN         NW  ...         NaN   \n",
       "\n",
       "        Pressure9am  Pressure3pm  Cloud9am  Cloud3pm  Temp9am  Temp3pm  \\\n",
       "9670         1009.9       1007.9       7.0       4.0     24.6     26.0   \n",
       "41484        1023.0       1021.2       NaN       NaN     20.8     22.9   \n",
       "90947        1013.1       1009.9       4.0       2.0     28.6     30.3   \n",
       "9789         1016.8       1014.2       8.0       7.0     15.0     14.9   \n",
       "125550       1020.9       1018.2       NaN       NaN     13.9     18.4   \n",
       "55967        1027.5       1026.7       4.0       7.0      4.0      8.2   \n",
       "7683         1016.5       1013.8       0.0       1.0     30.8     38.1   \n",
       "96953        1015.3       1011.0       7.0       6.0     13.9     20.4   \n",
       "9086         1015.0       1012.3       1.0       1.0     14.4     18.0   \n",
       "17052           NaN          NaN       4.0       NaN     15.0      NaN   \n",
       "\n",
       "        RainToday  RISK_MM  RainTomorrow  \n",
       "9670           No      0.0            No  \n",
       "41484          No      0.0            No  \n",
       "90947          No      0.0            No  \n",
       "9789          Yes    127.6           Yes  \n",
       "125550         No      0.0            No  \n",
       "55967          No      0.2            No  \n",
       "7683           No      0.0            No  \n",
       "96953          No      0.4            No  \n",
       "9086           No      0.0            No  \n",
       "17052          No      3.0           Yes  \n",
       "\n",
       "[10 rows x 24 columns]"
      ]
     },
     "execution_count": 6,
     "metadata": {},
     "output_type": "execute_result"
    }
   ],
   "source": [
    "df.sample(10)"
   ]
  },
  {
   "cell_type": "code",
   "execution_count": null,
   "id": "oC68I8ksHr8B",
   "metadata": {
    "colab": {
     "base_uri": "https://localhost:8080/"
    },
    "id": "oC68I8ksHr8B",
    "outputId": "2c4684e1-f964-4e1c-9546-cd2a9830d1c4"
   },
   "outputs": [
    {
     "data": {
      "text/plain": [
       "Date              object\n",
       "Location          object\n",
       "MinTemp          float64\n",
       "MaxTemp          float64\n",
       "Rainfall         float64\n",
       "Evaporation      float64\n",
       "Sunshine         float64\n",
       "WindGustDir       object\n",
       "WindGustSpeed    float64\n",
       "WindDir9am        object\n",
       "WindDir3pm        object\n",
       "WindSpeed9am     float64\n",
       "WindSpeed3pm     float64\n",
       "Humidity9am      float64\n",
       "Humidity3pm      float64\n",
       "Pressure9am      float64\n",
       "Pressure3pm      float64\n",
       "Cloud9am         float64\n",
       "Cloud3pm         float64\n",
       "Temp9am          float64\n",
       "Temp3pm          float64\n",
       "RainToday         object\n",
       "RISK_MM          float64\n",
       "RainTomorrow      object\n",
       "dtype: object"
      ]
     },
     "execution_count": 7,
     "metadata": {},
     "output_type": "execute_result"
    }
   ],
   "source": [
    "df.dtypes"
   ]
  },
  {
   "cell_type": "markdown",
   "id": "fd9c31db",
   "metadata": {
    "id": "fd9c31db"
   },
   "source": [
    "#### Las variables presentes en el dataset son las siguientes\n",
    "* Date :\n",
    "La fecha en que realizo el registro\n",
    "\n",
    "* Location :\n",
    "El estado en que fue tomado el registro\n",
    "\n",
    "* MinTemp :\n",
    "Temperatura minima registrada en grados Celsius\n",
    "\n",
    "* MaxTemp :\n",
    "Temperatura maxima registrada en grados Celsiuss\n",
    "\n",
    "* Rainfall :\n",
    "La Cantidad de agua caida durante el dia en mm\n",
    "\n",
    "* Evaporation :\n",
    "The so-called Class A pan evaporation (mm) in the 24 hours to 9am\n",
    "\n",
    "* Sunshine :\n",
    "La cantidad de horas que durante el dia hubo sol.\n",
    "\n",
    "* WindGustDir :\n",
    "Direccion de viento mas fuerte en las 24 horas anteriores a medianoche\n",
    "\n",
    "* WindGustSpeed :\n",
    "La velocidad (km/h) de viento mas fuerte en las 24 horas anteriores a medianoche\n",
    "\n",
    "* WindDir9am :\n",
    "Dirección del viento a las 9 am\n",
    "\n",
    "* WindDir3pm :\n",
    "Dirección del viento a las 3 pm\n",
    "\n",
    "* WindSpeed9am :\n",
    "Velocidad del viento a las 9 am\n",
    "\n",
    "* WindSpeed3pm :\n",
    "Velocidad del viento a las 3 pm\n",
    "\n",
    "* Humidity9am :\n",
    "Humedad en % presente a las 9 am\n",
    "\n",
    "* Humidity3pm :\n",
    "Humedad en % presente a las 3 pm\n",
    "\n",
    "* Pressure9am :\n",
    "Presion atmosferica presente a las 9 am\n",
    "     float64\n",
    "* Pressure3pm :\n",
    "Presion atmosferica presente a las 3 pm\n",
    "\n",
    "* Cloud9am :\n",
    "Fraccion de cielo oscurecido por nubes a las 9 am. (0  indica cielo despejado y 8 indica cielo totalmente nublado)\n",
    "\n",
    "* Cloud3pm :\n",
    "Fraccion de cielo oscurecido por nubes a las 3 pm. (0  indica cielo despejado y 8 indica cielo totalmente nublado)\n",
    "\n",
    "* Temp9am :\n",
    "Temperatura en grados celsius registrada a las 9 am\n",
    "\n",
    "* Temp3pm\n",
    "Temperatura en grados celsius registrada a las 3 pm\n",
    "\n",
    "* RainToday\n",
    "Se registró lluvia durante el día\n",
    "\n",
    "* RainTomorrow\n",
    "Se registró lluvia al día siguiente"
   ]
  },
  {
   "cell_type": "markdown",
   "id": "Wo78yc-wovHD",
   "metadata": {
    "id": "Wo78yc-wovHD"
   },
   "source": [
    "###Seleccionamos los estados federales correspondientes al clima Tropical para comenzar a trabajar con ellos.\n"
   ]
  },
  {
   "cell_type": "code",
   "execution_count": null,
   "id": "a98cf7e1-af83-455a-b70f-0d1f3d251e34",
   "metadata": {
    "colab": {
     "base_uri": "https://localhost:8080/",
     "height": 630
    },
    "id": "a98cf7e1-af83-455a-b70f-0d1f3d251e34",
    "outputId": "61d9e3c0-4bed-4b1f-a912-52a19a7effaa"
   },
   "outputs": [
    {
     "data": {
      "text/html": [
       "\n",
       "  <div id=\"df-d140fad8-72ca-4a45-ba0e-210e6b11eb37\">\n",
       "    <div class=\"colab-df-container\">\n",
       "      <div>\n",
       "<style scoped>\n",
       "    .dataframe tbody tr th:only-of-type {\n",
       "        vertical-align: middle;\n",
       "    }\n",
       "\n",
       "    .dataframe tbody tr th {\n",
       "        vertical-align: top;\n",
       "    }\n",
       "\n",
       "    .dataframe thead th {\n",
       "        text-align: right;\n",
       "    }\n",
       "</style>\n",
       "<table border=\"1\" class=\"dataframe\">\n",
       "  <thead>\n",
       "    <tr style=\"text-align: right;\">\n",
       "      <th></th>\n",
       "      <th>Date</th>\n",
       "      <th>Location</th>\n",
       "      <th>MinTemp</th>\n",
       "      <th>MaxTemp</th>\n",
       "      <th>Rainfall</th>\n",
       "      <th>Evaporation</th>\n",
       "      <th>Sunshine</th>\n",
       "      <th>WindGustDir</th>\n",
       "      <th>WindGustSpeed</th>\n",
       "      <th>WindDir9am</th>\n",
       "      <th>...</th>\n",
       "      <th>Humidity3pm</th>\n",
       "      <th>Pressure9am</th>\n",
       "      <th>Pressure3pm</th>\n",
       "      <th>Cloud9am</th>\n",
       "      <th>Cloud3pm</th>\n",
       "      <th>Temp9am</th>\n",
       "      <th>Temp3pm</th>\n",
       "      <th>RainToday</th>\n",
       "      <th>RISK_MM</th>\n",
       "      <th>RainTomorrow</th>\n",
       "    </tr>\n",
       "  </thead>\n",
       "  <tbody>\n",
       "    <tr>\n",
       "      <th>92678</th>\n",
       "      <td>2014-03-30</td>\n",
       "      <td>Townsville</td>\n",
       "      <td>24.7</td>\n",
       "      <td>30.2</td>\n",
       "      <td>0.0</td>\n",
       "      <td>6.0</td>\n",
       "      <td>10.0</td>\n",
       "      <td>ENE</td>\n",
       "      <td>33.0</td>\n",
       "      <td>SE</td>\n",
       "      <td>...</td>\n",
       "      <td>69.0</td>\n",
       "      <td>1015.6</td>\n",
       "      <td>1013.0</td>\n",
       "      <td>6.0</td>\n",
       "      <td>2.0</td>\n",
       "      <td>27.2</td>\n",
       "      <td>29.6</td>\n",
       "      <td>No</td>\n",
       "      <td>0.0</td>\n",
       "      <td>No</td>\n",
       "    </tr>\n",
       "    <tr>\n",
       "      <th>91986</th>\n",
       "      <td>2012-03-09</td>\n",
       "      <td>Townsville</td>\n",
       "      <td>24.1</td>\n",
       "      <td>30.6</td>\n",
       "      <td>2.6</td>\n",
       "      <td>1.6</td>\n",
       "      <td>1.8</td>\n",
       "      <td>NE</td>\n",
       "      <td>33.0</td>\n",
       "      <td>ESE</td>\n",
       "      <td>...</td>\n",
       "      <td>64.0</td>\n",
       "      <td>1011.3</td>\n",
       "      <td>1008.7</td>\n",
       "      <td>7.0</td>\n",
       "      <td>7.0</td>\n",
       "      <td>25.9</td>\n",
       "      <td>30.0</td>\n",
       "      <td>Yes</td>\n",
       "      <td>0.0</td>\n",
       "      <td>No</td>\n",
       "    </tr>\n",
       "    <tr>\n",
       "      <th>87693</th>\n",
       "      <td>2017-01-27</td>\n",
       "      <td>Cairns</td>\n",
       "      <td>23.4</td>\n",
       "      <td>33.5</td>\n",
       "      <td>6.4</td>\n",
       "      <td>NaN</td>\n",
       "      <td>NaN</td>\n",
       "      <td>E</td>\n",
       "      <td>37.0</td>\n",
       "      <td>S</td>\n",
       "      <td>...</td>\n",
       "      <td>53.0</td>\n",
       "      <td>1010.4</td>\n",
       "      <td>1008.0</td>\n",
       "      <td>NaN</td>\n",
       "      <td>1.0</td>\n",
       "      <td>29.5</td>\n",
       "      <td>33.1</td>\n",
       "      <td>Yes</td>\n",
       "      <td>0.0</td>\n",
       "      <td>No</td>\n",
       "    </tr>\n",
       "    <tr>\n",
       "      <th>137306</th>\n",
       "      <td>2012-05-16</td>\n",
       "      <td>Darwin</td>\n",
       "      <td>20.1</td>\n",
       "      <td>30.0</td>\n",
       "      <td>0.0</td>\n",
       "      <td>7.2</td>\n",
       "      <td>5.5</td>\n",
       "      <td>SE</td>\n",
       "      <td>39.0</td>\n",
       "      <td>SE</td>\n",
       "      <td>...</td>\n",
       "      <td>35.0</td>\n",
       "      <td>1013.7</td>\n",
       "      <td>1009.6</td>\n",
       "      <td>7.0</td>\n",
       "      <td>6.0</td>\n",
       "      <td>21.8</td>\n",
       "      <td>29.3</td>\n",
       "      <td>No</td>\n",
       "      <td>0.0</td>\n",
       "      <td>No</td>\n",
       "    </tr>\n",
       "    <tr>\n",
       "      <th>140120</th>\n",
       "      <td>2015-12-09</td>\n",
       "      <td>Katherine</td>\n",
       "      <td>23.0</td>\n",
       "      <td>36.0</td>\n",
       "      <td>34.0</td>\n",
       "      <td>NaN</td>\n",
       "      <td>NaN</td>\n",
       "      <td>NNE</td>\n",
       "      <td>35.0</td>\n",
       "      <td>NW</td>\n",
       "      <td>...</td>\n",
       "      <td>NaN</td>\n",
       "      <td>1013.6</td>\n",
       "      <td>1009.6</td>\n",
       "      <td>6.0</td>\n",
       "      <td>NaN</td>\n",
       "      <td>29.0</td>\n",
       "      <td>NaN</td>\n",
       "      <td>Yes</td>\n",
       "      <td>0.0</td>\n",
       "      <td>No</td>\n",
       "    </tr>\n",
       "    <tr>\n",
       "      <th>138347</th>\n",
       "      <td>2015-05-21</td>\n",
       "      <td>Darwin</td>\n",
       "      <td>22.9</td>\n",
       "      <td>32.3</td>\n",
       "      <td>0.0</td>\n",
       "      <td>4.0</td>\n",
       "      <td>10.9</td>\n",
       "      <td>NNW</td>\n",
       "      <td>31.0</td>\n",
       "      <td>NE</td>\n",
       "      <td>...</td>\n",
       "      <td>64.0</td>\n",
       "      <td>1016.2</td>\n",
       "      <td>1012.9</td>\n",
       "      <td>1.0</td>\n",
       "      <td>3.0</td>\n",
       "      <td>28.1</td>\n",
       "      <td>30.5</td>\n",
       "      <td>No</td>\n",
       "      <td>0.0</td>\n",
       "      <td>No</td>\n",
       "    </tr>\n",
       "    <tr>\n",
       "      <th>92210</th>\n",
       "      <td>2012-10-19</td>\n",
       "      <td>Townsville</td>\n",
       "      <td>17.9</td>\n",
       "      <td>29.5</td>\n",
       "      <td>0.0</td>\n",
       "      <td>9.4</td>\n",
       "      <td>11.7</td>\n",
       "      <td>ENE</td>\n",
       "      <td>48.0</td>\n",
       "      <td>ESE</td>\n",
       "      <td>...</td>\n",
       "      <td>53.0</td>\n",
       "      <td>1017.5</td>\n",
       "      <td>1014.8</td>\n",
       "      <td>3.0</td>\n",
       "      <td>1.0</td>\n",
       "      <td>26.8</td>\n",
       "      <td>27.0</td>\n",
       "      <td>No</td>\n",
       "      <td>0.0</td>\n",
       "      <td>No</td>\n",
       "    </tr>\n",
       "    <tr>\n",
       "      <th>140650</th>\n",
       "      <td>2017-06-02</td>\n",
       "      <td>Katherine</td>\n",
       "      <td>16.6</td>\n",
       "      <td>30.0</td>\n",
       "      <td>0.0</td>\n",
       "      <td>8.0</td>\n",
       "      <td>NaN</td>\n",
       "      <td>SE</td>\n",
       "      <td>44.0</td>\n",
       "      <td>SE</td>\n",
       "      <td>...</td>\n",
       "      <td>NaN</td>\n",
       "      <td>1017.8</td>\n",
       "      <td>1014.2</td>\n",
       "      <td>3.0</td>\n",
       "      <td>NaN</td>\n",
       "      <td>23.0</td>\n",
       "      <td>NaN</td>\n",
       "      <td>No</td>\n",
       "      <td>0.0</td>\n",
       "      <td>No</td>\n",
       "    </tr>\n",
       "    <tr>\n",
       "      <th>86786</th>\n",
       "      <td>2014-06-15</td>\n",
       "      <td>Cairns</td>\n",
       "      <td>19.7</td>\n",
       "      <td>21.5</td>\n",
       "      <td>0.2</td>\n",
       "      <td>3.6</td>\n",
       "      <td>0.0</td>\n",
       "      <td>SSE</td>\n",
       "      <td>35.0</td>\n",
       "      <td>S</td>\n",
       "      <td>...</td>\n",
       "      <td>80.0</td>\n",
       "      <td>1016.3</td>\n",
       "      <td>1014.2</td>\n",
       "      <td>8.0</td>\n",
       "      <td>8.0</td>\n",
       "      <td>20.6</td>\n",
       "      <td>19.2</td>\n",
       "      <td>No</td>\n",
       "      <td>1.0</td>\n",
       "      <td>No</td>\n",
       "    </tr>\n",
       "    <tr>\n",
       "      <th>139635</th>\n",
       "      <td>2014-08-10</td>\n",
       "      <td>Katherine</td>\n",
       "      <td>12.5</td>\n",
       "      <td>31.1</td>\n",
       "      <td>0.0</td>\n",
       "      <td>8.0</td>\n",
       "      <td>NaN</td>\n",
       "      <td>ESE</td>\n",
       "      <td>44.0</td>\n",
       "      <td>ESE</td>\n",
       "      <td>...</td>\n",
       "      <td>26.0</td>\n",
       "      <td>1018.4</td>\n",
       "      <td>1014.1</td>\n",
       "      <td>0.0</td>\n",
       "      <td>0.0</td>\n",
       "      <td>26.6</td>\n",
       "      <td>30.4</td>\n",
       "      <td>No</td>\n",
       "      <td>0.0</td>\n",
       "      <td>No</td>\n",
       "    </tr>\n",
       "  </tbody>\n",
       "</table>\n",
       "<p>10 rows × 24 columns</p>\n",
       "</div>\n",
       "      <button class=\"colab-df-convert\" onclick=\"convertToInteractive('df-d140fad8-72ca-4a45-ba0e-210e6b11eb37')\"\n",
       "              title=\"Convert this dataframe to an interactive table.\"\n",
       "              style=\"display:none;\">\n",
       "        \n",
       "  <svg xmlns=\"http://www.w3.org/2000/svg\" height=\"24px\"viewBox=\"0 0 24 24\"\n",
       "       width=\"24px\">\n",
       "    <path d=\"M0 0h24v24H0V0z\" fill=\"none\"/>\n",
       "    <path d=\"M18.56 5.44l.94 2.06.94-2.06 2.06-.94-2.06-.94-.94-2.06-.94 2.06-2.06.94zm-11 1L8.5 8.5l.94-2.06 2.06-.94-2.06-.94L8.5 2.5l-.94 2.06-2.06.94zm10 10l.94 2.06.94-2.06 2.06-.94-2.06-.94-.94-2.06-.94 2.06-2.06.94z\"/><path d=\"M17.41 7.96l-1.37-1.37c-.4-.4-.92-.59-1.43-.59-.52 0-1.04.2-1.43.59L10.3 9.45l-7.72 7.72c-.78.78-.78 2.05 0 2.83L4 21.41c.39.39.9.59 1.41.59.51 0 1.02-.2 1.41-.59l7.78-7.78 2.81-2.81c.8-.78.8-2.07 0-2.86zM5.41 20L4 18.59l7.72-7.72 1.47 1.35L5.41 20z\"/>\n",
       "  </svg>\n",
       "      </button>\n",
       "      \n",
       "  <style>\n",
       "    .colab-df-container {\n",
       "      display:flex;\n",
       "      flex-wrap:wrap;\n",
       "      gap: 12px;\n",
       "    }\n",
       "\n",
       "    .colab-df-convert {\n",
       "      background-color: #E8F0FE;\n",
       "      border: none;\n",
       "      border-radius: 50%;\n",
       "      cursor: pointer;\n",
       "      display: none;\n",
       "      fill: #1967D2;\n",
       "      height: 32px;\n",
       "      padding: 0 0 0 0;\n",
       "      width: 32px;\n",
       "    }\n",
       "\n",
       "    .colab-df-convert:hover {\n",
       "      background-color: #E2EBFA;\n",
       "      box-shadow: 0px 1px 2px rgba(60, 64, 67, 0.3), 0px 1px 3px 1px rgba(60, 64, 67, 0.15);\n",
       "      fill: #174EA6;\n",
       "    }\n",
       "\n",
       "    [theme=dark] .colab-df-convert {\n",
       "      background-color: #3B4455;\n",
       "      fill: #D2E3FC;\n",
       "    }\n",
       "\n",
       "    [theme=dark] .colab-df-convert:hover {\n",
       "      background-color: #434B5C;\n",
       "      box-shadow: 0px 1px 3px 1px rgba(0, 0, 0, 0.15);\n",
       "      filter: drop-shadow(0px 1px 2px rgba(0, 0, 0, 0.3));\n",
       "      fill: #FFFFFF;\n",
       "    }\n",
       "  </style>\n",
       "\n",
       "      <script>\n",
       "        const buttonEl =\n",
       "          document.querySelector('#df-d140fad8-72ca-4a45-ba0e-210e6b11eb37 button.colab-df-convert');\n",
       "        buttonEl.style.display =\n",
       "          google.colab.kernel.accessAllowed ? 'block' : 'none';\n",
       "\n",
       "        async function convertToInteractive(key) {\n",
       "          const element = document.querySelector('#df-d140fad8-72ca-4a45-ba0e-210e6b11eb37');\n",
       "          const dataTable =\n",
       "            await google.colab.kernel.invokeFunction('convertToInteractive',\n",
       "                                                     [key], {});\n",
       "          if (!dataTable) return;\n",
       "\n",
       "          const docLinkHtml = 'Like what you see? Visit the ' +\n",
       "            '<a target=\"_blank\" href=https://colab.research.google.com/notebooks/data_table.ipynb>data table notebook</a>'\n",
       "            + ' to learn more about interactive tables.';\n",
       "          element.innerHTML = '';\n",
       "          dataTable['output_type'] = 'display_data';\n",
       "          await google.colab.output.renderOutput(dataTable, element);\n",
       "          const docLink = document.createElement('div');\n",
       "          docLink.innerHTML = docLinkHtml;\n",
       "          element.appendChild(docLink);\n",
       "        }\n",
       "      </script>\n",
       "    </div>\n",
       "  </div>\n",
       "  "
      ],
      "text/plain": [
       "              Date    Location  MinTemp  MaxTemp  Rainfall  Evaporation  \\\n",
       "92678   2014-03-30  Townsville     24.7     30.2       0.0          6.0   \n",
       "91986   2012-03-09  Townsville     24.1     30.6       2.6          1.6   \n",
       "87693   2017-01-27      Cairns     23.4     33.5       6.4          NaN   \n",
       "137306  2012-05-16      Darwin     20.1     30.0       0.0          7.2   \n",
       "140120  2015-12-09   Katherine     23.0     36.0      34.0          NaN   \n",
       "138347  2015-05-21      Darwin     22.9     32.3       0.0          4.0   \n",
       "92210   2012-10-19  Townsville     17.9     29.5       0.0          9.4   \n",
       "140650  2017-06-02   Katherine     16.6     30.0       0.0          8.0   \n",
       "86786   2014-06-15      Cairns     19.7     21.5       0.2          3.6   \n",
       "139635  2014-08-10   Katherine     12.5     31.1       0.0          8.0   \n",
       "\n",
       "        Sunshine WindGustDir  WindGustSpeed WindDir9am  ... Humidity3pm  \\\n",
       "92678       10.0         ENE           33.0         SE  ...        69.0   \n",
       "91986        1.8          NE           33.0        ESE  ...        64.0   \n",
       "87693        NaN           E           37.0          S  ...        53.0   \n",
       "137306       5.5          SE           39.0         SE  ...        35.0   \n",
       "140120       NaN         NNE           35.0         NW  ...         NaN   \n",
       "138347      10.9         NNW           31.0         NE  ...        64.0   \n",
       "92210       11.7         ENE           48.0        ESE  ...        53.0   \n",
       "140650       NaN          SE           44.0         SE  ...         NaN   \n",
       "86786        0.0         SSE           35.0          S  ...        80.0   \n",
       "139635       NaN         ESE           44.0        ESE  ...        26.0   \n",
       "\n",
       "        Pressure9am  Pressure3pm  Cloud9am  Cloud3pm  Temp9am  Temp3pm  \\\n",
       "92678        1015.6       1013.0       6.0       2.0     27.2     29.6   \n",
       "91986        1011.3       1008.7       7.0       7.0     25.9     30.0   \n",
       "87693        1010.4       1008.0       NaN       1.0     29.5     33.1   \n",
       "137306       1013.7       1009.6       7.0       6.0     21.8     29.3   \n",
       "140120       1013.6       1009.6       6.0       NaN     29.0      NaN   \n",
       "138347       1016.2       1012.9       1.0       3.0     28.1     30.5   \n",
       "92210        1017.5       1014.8       3.0       1.0     26.8     27.0   \n",
       "140650       1017.8       1014.2       3.0       NaN     23.0      NaN   \n",
       "86786        1016.3       1014.2       8.0       8.0     20.6     19.2   \n",
       "139635       1018.4       1014.1       0.0       0.0     26.6     30.4   \n",
       "\n",
       "        RainToday  RISK_MM  RainTomorrow  \n",
       "92678          No      0.0            No  \n",
       "91986         Yes      0.0            No  \n",
       "87693         Yes      0.0            No  \n",
       "137306         No      0.0            No  \n",
       "140120        Yes      0.0            No  \n",
       "138347         No      0.0            No  \n",
       "92210          No      0.0            No  \n",
       "140650         No      0.0            No  \n",
       "86786          No      1.0            No  \n",
       "139635         No      0.0            No  \n",
       "\n",
       "[10 rows x 24 columns]"
      ]
     },
     "execution_count": 8,
     "metadata": {},
     "output_type": "execute_result"
    }
   ],
   "source": [
    "valores = ['Port Warrender','Wyndham','Darwin','Katherine','Cooktown','Cairns','Townsville']\n",
    "Df = df[df['Location'].isin(valores)]\n",
    "Df.sample(10)"
   ]
  },
  {
   "cell_type": "code",
   "execution_count": null,
   "id": "9e06e35a-a4db-42c1-b1e2-b137265029b1",
   "metadata": {
    "colab": {
     "base_uri": "https://localhost:8080/"
    },
    "id": "9e06e35a-a4db-42c1-b1e2-b137265029b1",
    "outputId": "874fe2c0-8a0c-4d7c-c0e2-cb009f39d587"
   },
   "outputs": [
    {
     "name": "stderr",
     "output_type": "stream",
     "text": [
      "<ipython-input-9-02e279a3033b>:2: SettingWithCopyWarning: \n",
      "A value is trying to be set on a copy of a slice from a DataFrame.\n",
      "Try using .loc[row_indexer,col_indexer] = value instead\n",
      "\n",
      "See the caveats in the documentation: https://pandas.pydata.org/pandas-docs/stable/user_guide/indexing.html#returning-a-view-versus-a-copy\n",
      "  Df['Date'] = pd.to_datetime(Df['Date'])\n"
     ]
    }
   ],
   "source": [
    "#En el siguiente código podemos visualizar que la columna Date se transforma a una variable de tipo fecha\n",
    "Df['Date'] = pd.to_datetime(Df['Date'])"
   ]
  },
  {
   "cell_type": "markdown",
   "id": "t3KNwYP_qvfL",
   "metadata": {
    "id": "t3KNwYP_qvfL"
   },
   "source": [
    "###En este apartado comenzaremos con la siguiente etapa de CRISP-DM, la preparación de la data (DATA PREPARATION). Comenzamos con la columna Date que es de tipo Object, la cual deberemos transformar a tipo fecha."
   ]
  },
  {
   "cell_type": "code",
   "execution_count": null,
   "id": "7eccd8a5-9aab-4413-805f-d06ae8557c8d",
   "metadata": {
    "colab": {
     "base_uri": "https://localhost:8080/"
    },
    "id": "7eccd8a5-9aab-4413-805f-d06ae8557c8d",
    "outputId": "af93ce82-22ab-44b4-e757-a75c69547f57"
   },
   "outputs": [
    {
     "name": "stderr",
     "output_type": "stream",
     "text": [
      "<ipython-input-10-7fa25959d71f>:2: SettingWithCopyWarning: \n",
      "A value is trying to be set on a copy of a slice from a DataFrame.\n",
      "Try using .loc[row_indexer,col_indexer] = value instead\n",
      "\n",
      "See the caveats in the documentation: https://pandas.pydata.org/pandas-docs/stable/user_guide/indexing.html#returning-a-view-versus-a-copy\n",
      "  Df['Day']= Df['Date'].dt.day\n",
      "<ipython-input-10-7fa25959d71f>:3: SettingWithCopyWarning: \n",
      "A value is trying to be set on a copy of a slice from a DataFrame.\n",
      "Try using .loc[row_indexer,col_indexer] = value instead\n",
      "\n",
      "See the caveats in the documentation: https://pandas.pydata.org/pandas-docs/stable/user_guide/indexing.html#returning-a-view-versus-a-copy\n",
      "  Df['Month']= Df['Date'].dt.month\n",
      "<ipython-input-10-7fa25959d71f>:4: SettingWithCopyWarning: \n",
      "A value is trying to be set on a copy of a slice from a DataFrame.\n",
      "Try using .loc[row_indexer,col_indexer] = value instead\n",
      "\n",
      "See the caveats in the documentation: https://pandas.pydata.org/pandas-docs/stable/user_guide/indexing.html#returning-a-view-versus-a-copy\n",
      "  Df['Year']= Df['Date'].dt.year\n"
     ]
    }
   ],
   "source": [
    "#Una vez trasnformada a fecha la columna Date, podemos proceder a separarlos por día, mes y año. De forma continua eliminamos la columna Date ya que hemos separado lo antes mencionado.\n",
    "Df['Day']= Df['Date'].dt.day\n",
    "Df['Month']= Df['Date'].dt.month \n",
    "Df['Year']= Df['Date'].dt.year \n",
    "DF = Df.drop(['Date'],axis=1)"
   ]
  },
  {
   "cell_type": "markdown",
   "id": "JFRomN6OqFw3",
   "metadata": {
    "id": "JFRomN6OqFw3"
   },
   "source": [
    "###Una vez realizado la separación de Date, realizamos un sample para visualizar que el codigo anterior funcionó. A continuación vemos que ya no existe Date como columna, si no que existe en su reemplazo, las columnas: DAY, MONTH, YEAR."
   ]
  },
  {
   "cell_type": "code",
   "execution_count": null,
   "id": "6dc6cda9-ae3f-44a6-8694-be580bd2b863",
   "metadata": {
    "colab": {
     "base_uri": "https://localhost:8080/",
     "height": 300
    },
    "id": "6dc6cda9-ae3f-44a6-8694-be580bd2b863",
    "outputId": "0a90dbce-eb3b-42e7-a015-3498c0be153b"
   },
   "outputs": [
    {
     "data": {
      "text/html": [
       "\n",
       "  <div id=\"df-c7ba70a3-0a71-4aa0-83f2-9f79ab81c17d\">\n",
       "    <div class=\"colab-df-container\">\n",
       "      <div>\n",
       "<style scoped>\n",
       "    .dataframe tbody tr th:only-of-type {\n",
       "        vertical-align: middle;\n",
       "    }\n",
       "\n",
       "    .dataframe tbody tr th {\n",
       "        vertical-align: top;\n",
       "    }\n",
       "\n",
       "    .dataframe thead th {\n",
       "        text-align: right;\n",
       "    }\n",
       "</style>\n",
       "<table border=\"1\" class=\"dataframe\">\n",
       "  <thead>\n",
       "    <tr style=\"text-align: right;\">\n",
       "      <th></th>\n",
       "      <th>Location</th>\n",
       "      <th>MinTemp</th>\n",
       "      <th>MaxTemp</th>\n",
       "      <th>Rainfall</th>\n",
       "      <th>Evaporation</th>\n",
       "      <th>Sunshine</th>\n",
       "      <th>WindGustDir</th>\n",
       "      <th>WindGustSpeed</th>\n",
       "      <th>WindDir9am</th>\n",
       "      <th>WindDir3pm</th>\n",
       "      <th>...</th>\n",
       "      <th>Cloud9am</th>\n",
       "      <th>Cloud3pm</th>\n",
       "      <th>Temp9am</th>\n",
       "      <th>Temp3pm</th>\n",
       "      <th>RainToday</th>\n",
       "      <th>RISK_MM</th>\n",
       "      <th>RainTomorrow</th>\n",
       "      <th>Day</th>\n",
       "      <th>Month</th>\n",
       "      <th>Year</th>\n",
       "    </tr>\n",
       "  </thead>\n",
       "  <tbody>\n",
       "    <tr>\n",
       "      <th>86434</th>\n",
       "      <td>Cairns</td>\n",
       "      <td>15.8</td>\n",
       "      <td>26.4</td>\n",
       "      <td>0.0</td>\n",
       "      <td>4.0</td>\n",
       "      <td>6.8</td>\n",
       "      <td>ENE</td>\n",
       "      <td>30.0</td>\n",
       "      <td>SE</td>\n",
       "      <td>ENE</td>\n",
       "      <td>...</td>\n",
       "      <td>1.0</td>\n",
       "      <td>5.0</td>\n",
       "      <td>21.0</td>\n",
       "      <td>23.8</td>\n",
       "      <td>No</td>\n",
       "      <td>0.0</td>\n",
       "      <td>No</td>\n",
       "      <td>27</td>\n",
       "      <td>6</td>\n",
       "      <td>2013</td>\n",
       "    </tr>\n",
       "    <tr>\n",
       "      <th>136747</th>\n",
       "      <td>Darwin</td>\n",
       "      <td>26.2</td>\n",
       "      <td>35.6</td>\n",
       "      <td>0.0</td>\n",
       "      <td>8.2</td>\n",
       "      <td>10.6</td>\n",
       "      <td>SW</td>\n",
       "      <td>39.0</td>\n",
       "      <td>ENE</td>\n",
       "      <td>NNW</td>\n",
       "      <td>...</td>\n",
       "      <td>2.0</td>\n",
       "      <td>7.0</td>\n",
       "      <td>30.7</td>\n",
       "      <td>33.9</td>\n",
       "      <td>No</td>\n",
       "      <td>0.0</td>\n",
       "      <td>No</td>\n",
       "      <td>5</td>\n",
       "      <td>10</td>\n",
       "      <td>2010</td>\n",
       "    </tr>\n",
       "    <tr>\n",
       "      <th>90842</th>\n",
       "      <td>Townsville</td>\n",
       "      <td>26.6</td>\n",
       "      <td>33.5</td>\n",
       "      <td>0.0</td>\n",
       "      <td>4.4</td>\n",
       "      <td>10.3</td>\n",
       "      <td>ESE</td>\n",
       "      <td>37.0</td>\n",
       "      <td>NNE</td>\n",
       "      <td>N</td>\n",
       "      <td>...</td>\n",
       "      <td>7.0</td>\n",
       "      <td>6.0</td>\n",
       "      <td>31.4</td>\n",
       "      <td>31.8</td>\n",
       "      <td>No</td>\n",
       "      <td>0.2</td>\n",
       "      <td>No</td>\n",
       "      <td>20</td>\n",
       "      <td>12</td>\n",
       "      <td>2008</td>\n",
       "    </tr>\n",
       "    <tr>\n",
       "      <th>91998</th>\n",
       "      <td>Townsville</td>\n",
       "      <td>25.9</td>\n",
       "      <td>30.9</td>\n",
       "      <td>6.4</td>\n",
       "      <td>4.2</td>\n",
       "      <td>10.3</td>\n",
       "      <td>N</td>\n",
       "      <td>52.0</td>\n",
       "      <td>NNW</td>\n",
       "      <td>N</td>\n",
       "      <td>...</td>\n",
       "      <td>7.0</td>\n",
       "      <td>4.0</td>\n",
       "      <td>28.9</td>\n",
       "      <td>30.6</td>\n",
       "      <td>Yes</td>\n",
       "      <td>0.0</td>\n",
       "      <td>No</td>\n",
       "      <td>21</td>\n",
       "      <td>3</td>\n",
       "      <td>2012</td>\n",
       "    </tr>\n",
       "    <tr>\n",
       "      <th>86144</th>\n",
       "      <td>Cairns</td>\n",
       "      <td>20.0</td>\n",
       "      <td>27.8</td>\n",
       "      <td>0.0</td>\n",
       "      <td>5.8</td>\n",
       "      <td>3.5</td>\n",
       "      <td>E</td>\n",
       "      <td>26.0</td>\n",
       "      <td>SE</td>\n",
       "      <td>NNE</td>\n",
       "      <td>...</td>\n",
       "      <td>7.0</td>\n",
       "      <td>7.0</td>\n",
       "      <td>22.8</td>\n",
       "      <td>26.4</td>\n",
       "      <td>No</td>\n",
       "      <td>0.8</td>\n",
       "      <td>No</td>\n",
       "      <td>13</td>\n",
       "      <td>7</td>\n",
       "      <td>2012</td>\n",
       "    </tr>\n",
       "  </tbody>\n",
       "</table>\n",
       "<p>5 rows × 26 columns</p>\n",
       "</div>\n",
       "      <button class=\"colab-df-convert\" onclick=\"convertToInteractive('df-c7ba70a3-0a71-4aa0-83f2-9f79ab81c17d')\"\n",
       "              title=\"Convert this dataframe to an interactive table.\"\n",
       "              style=\"display:none;\">\n",
       "        \n",
       "  <svg xmlns=\"http://www.w3.org/2000/svg\" height=\"24px\"viewBox=\"0 0 24 24\"\n",
       "       width=\"24px\">\n",
       "    <path d=\"M0 0h24v24H0V0z\" fill=\"none\"/>\n",
       "    <path d=\"M18.56 5.44l.94 2.06.94-2.06 2.06-.94-2.06-.94-.94-2.06-.94 2.06-2.06.94zm-11 1L8.5 8.5l.94-2.06 2.06-.94-2.06-.94L8.5 2.5l-.94 2.06-2.06.94zm10 10l.94 2.06.94-2.06 2.06-.94-2.06-.94-.94-2.06-.94 2.06-2.06.94z\"/><path d=\"M17.41 7.96l-1.37-1.37c-.4-.4-.92-.59-1.43-.59-.52 0-1.04.2-1.43.59L10.3 9.45l-7.72 7.72c-.78.78-.78 2.05 0 2.83L4 21.41c.39.39.9.59 1.41.59.51 0 1.02-.2 1.41-.59l7.78-7.78 2.81-2.81c.8-.78.8-2.07 0-2.86zM5.41 20L4 18.59l7.72-7.72 1.47 1.35L5.41 20z\"/>\n",
       "  </svg>\n",
       "      </button>\n",
       "      \n",
       "  <style>\n",
       "    .colab-df-container {\n",
       "      display:flex;\n",
       "      flex-wrap:wrap;\n",
       "      gap: 12px;\n",
       "    }\n",
       "\n",
       "    .colab-df-convert {\n",
       "      background-color: #E8F0FE;\n",
       "      border: none;\n",
       "      border-radius: 50%;\n",
       "      cursor: pointer;\n",
       "      display: none;\n",
       "      fill: #1967D2;\n",
       "      height: 32px;\n",
       "      padding: 0 0 0 0;\n",
       "      width: 32px;\n",
       "    }\n",
       "\n",
       "    .colab-df-convert:hover {\n",
       "      background-color: #E2EBFA;\n",
       "      box-shadow: 0px 1px 2px rgba(60, 64, 67, 0.3), 0px 1px 3px 1px rgba(60, 64, 67, 0.15);\n",
       "      fill: #174EA6;\n",
       "    }\n",
       "\n",
       "    [theme=dark] .colab-df-convert {\n",
       "      background-color: #3B4455;\n",
       "      fill: #D2E3FC;\n",
       "    }\n",
       "\n",
       "    [theme=dark] .colab-df-convert:hover {\n",
       "      background-color: #434B5C;\n",
       "      box-shadow: 0px 1px 3px 1px rgba(0, 0, 0, 0.15);\n",
       "      filter: drop-shadow(0px 1px 2px rgba(0, 0, 0, 0.3));\n",
       "      fill: #FFFFFF;\n",
       "    }\n",
       "  </style>\n",
       "\n",
       "      <script>\n",
       "        const buttonEl =\n",
       "          document.querySelector('#df-c7ba70a3-0a71-4aa0-83f2-9f79ab81c17d button.colab-df-convert');\n",
       "        buttonEl.style.display =\n",
       "          google.colab.kernel.accessAllowed ? 'block' : 'none';\n",
       "\n",
       "        async function convertToInteractive(key) {\n",
       "          const element = document.querySelector('#df-c7ba70a3-0a71-4aa0-83f2-9f79ab81c17d');\n",
       "          const dataTable =\n",
       "            await google.colab.kernel.invokeFunction('convertToInteractive',\n",
       "                                                     [key], {});\n",
       "          if (!dataTable) return;\n",
       "\n",
       "          const docLinkHtml = 'Like what you see? Visit the ' +\n",
       "            '<a target=\"_blank\" href=https://colab.research.google.com/notebooks/data_table.ipynb>data table notebook</a>'\n",
       "            + ' to learn more about interactive tables.';\n",
       "          element.innerHTML = '';\n",
       "          dataTable['output_type'] = 'display_data';\n",
       "          await google.colab.output.renderOutput(dataTable, element);\n",
       "          const docLink = document.createElement('div');\n",
       "          docLink.innerHTML = docLinkHtml;\n",
       "          element.appendChild(docLink);\n",
       "        }\n",
       "      </script>\n",
       "    </div>\n",
       "  </div>\n",
       "  "
      ],
      "text/plain": [
       "          Location  MinTemp  MaxTemp  Rainfall  Evaporation  Sunshine  \\\n",
       "86434       Cairns     15.8     26.4       0.0          4.0       6.8   \n",
       "136747      Darwin     26.2     35.6       0.0          8.2      10.6   \n",
       "90842   Townsville     26.6     33.5       0.0          4.4      10.3   \n",
       "91998   Townsville     25.9     30.9       6.4          4.2      10.3   \n",
       "86144       Cairns     20.0     27.8       0.0          5.8       3.5   \n",
       "\n",
       "       WindGustDir  WindGustSpeed WindDir9am WindDir3pm  ...  Cloud9am  \\\n",
       "86434          ENE           30.0         SE        ENE  ...       1.0   \n",
       "136747          SW           39.0        ENE        NNW  ...       2.0   \n",
       "90842          ESE           37.0        NNE          N  ...       7.0   \n",
       "91998            N           52.0        NNW          N  ...       7.0   \n",
       "86144            E           26.0         SE        NNE  ...       7.0   \n",
       "\n",
       "        Cloud3pm  Temp9am  Temp3pm  RainToday  RISK_MM  RainTomorrow  Day  \\\n",
       "86434        5.0     21.0     23.8         No      0.0            No   27   \n",
       "136747       7.0     30.7     33.9         No      0.0            No    5   \n",
       "90842        6.0     31.4     31.8         No      0.2            No   20   \n",
       "91998        4.0     28.9     30.6        Yes      0.0            No   21   \n",
       "86144        7.0     22.8     26.4         No      0.8            No   13   \n",
       "\n",
       "        Month  Year  \n",
       "86434       6  2013  \n",
       "136747     10  2010  \n",
       "90842      12  2008  \n",
       "91998       3  2012  \n",
       "86144       7  2012  \n",
       "\n",
       "[5 rows x 26 columns]"
      ]
     },
     "execution_count": 11,
     "metadata": {},
     "output_type": "execute_result"
    }
   ],
   "source": [
    "DF.sample(5)"
   ]
  },
  {
   "cell_type": "code",
   "execution_count": null,
   "id": "d0156251-8a09-443f-9f7e-11e9f9d2c058",
   "metadata": {
    "colab": {
     "base_uri": "https://localhost:8080/"
    },
    "id": "d0156251-8a09-443f-9f7e-11e9f9d2c058",
    "outputId": "aec247d2-1875-4add-80eb-9a6ebcc73139"
   },
   "outputs": [
    {
     "data": {
      "text/plain": [
       "(10772, 26)"
      ]
     },
     "execution_count": 12,
     "metadata": {},
     "output_type": "execute_result"
    }
   ],
   "source": [
    "#Visualizamos la cantidad de filas y columnas que se encuentran en el dataset\n",
    "DF.shape"
   ]
  },
  {
   "cell_type": "code",
   "execution_count": null,
   "id": "4086af5f-b28f-49d8-a8f7-0440cb7587f3",
   "metadata": {
    "colab": {
     "base_uri": "https://localhost:8080/"
    },
    "id": "4086af5f-b28f-49d8-a8f7-0440cb7587f3",
    "outputId": "1aef66e1-842a-4730-f79c-5380621b89b0"
   },
   "outputs": [
    {
     "data": {
      "text/plain": [
       "Location            0\n",
       "MinTemp            48\n",
       "MaxTemp            22\n",
       "Rainfall           44\n",
       "Evaporation       570\n",
       "Sunshine         2405\n",
       "WindGustDir       113\n",
       "WindGustSpeed     108\n",
       "WindDir9am        233\n",
       "WindDir3pm         26\n",
       "WindSpeed9am        5\n",
       "WindSpeed3pm       10\n",
       "Humidity9am        78\n",
       "Humidity3pm       824\n",
       "Pressure9am         2\n",
       "Pressure3pm         7\n",
       "Cloud9am          395\n",
       "Cloud3pm         1193\n",
       "Temp9am            38\n",
       "Temp3pm           712\n",
       "RainToday          44\n",
       "RISK_MM             0\n",
       "RainTomorrow        0\n",
       "Day                 0\n",
       "Month               0\n",
       "Year                0\n",
       "dtype: int64"
      ]
     },
     "execution_count": 13,
     "metadata": {},
     "output_type": "execute_result"
    }
   ],
   "source": [
    "#Verificamos la cantidad de nulos por columnas\n",
    "DF.isnull().sum()"
   ]
  },
  {
   "cell_type": "markdown",
   "id": "16f2bf63",
   "metadata": {
    "id": "16f2bf63"
   },
   "source": [
    "### Tratamiento de datos nulos"
   ]
  },
  {
   "cell_type": "markdown",
   "id": "d7fc978a",
   "metadata": {
    "id": "d7fc978a"
   },
   "source": [
    "En el caso de los nulos existentes, decidimos optar por tratar estos con la tecnica de imputar valores a partir de la tecnica de vecinos cercanos"
   ]
  },
  {
   "cell_type": "code",
   "execution_count": null,
   "id": "5515fa4f",
   "metadata": {
    "id": "5515fa4f"
   },
   "outputs": [],
   "source": [
    "imputer = KNNImputer(n_neighbors=5, weights=\"uniform\")\n",
    "\n",
    "#Imputamos los missing values\n",
    "imputer.fit(DF[[\"Sunshine\"]])\n",
    "DF[\"Sunshine\"] = imputer.transform(DF[[\"Sunshine\"]]).ravel()\n",
    "\n",
    "imputer.fit(DF[[\"Cloud3pm\"]])\n",
    "DF[\"Cloud3pm\"] = imputer.transform(DF[[\"Cloud3pm\"]]).ravel()\n",
    "\n",
    "imputer.fit(DF[[\"Evaporation\"]])\n",
    "DF[\"Evaporation\"] = imputer.transform(DF[[\"Evaporation\"]]).ravel()\n",
    "\n",
    "imputer.fit(DF[[\"Cloud9am\"]])\n",
    "DF[\"Cloud9am\"] = imputer.transform(DF[[\"Cloud9am\"]]).ravel()\n",
    "\n",
    "imputer.fit(DF[[\"Pressure9am\"]])\n",
    "DF[\"Pressure9am\"] = imputer.transform(DF[[\"Pressure9am\"]]).ravel()\n",
    "\n",
    "imputer.fit(DF[[\"Pressure3pm\"]])\n",
    "DF[\"Pressure3pm\"] = imputer.transform(DF[[\"Pressure3pm\"]]).ravel()\n",
    "\n",
    "imputer.fit(DF[[\"WindSpeed9am\"]])\n",
    "DF[\"WindSpeed9am\"] = imputer.transform(DF[[\"WindSpeed9am\"]]).ravel()\n",
    "\n",
    "imputer.fit(DF[[\"WindSpeed3pm\"]])\n",
    "DF[\"WindSpeed3pm\"] = imputer.transform(DF[[\"WindSpeed3pm\"]]).ravel()\n",
    "\n",
    "imputer.fit(DF[[\"WindGustSpeed\"]])\n",
    "DF[\"WindGustSpeed\"] = imputer.transform(DF[[\"WindGustSpeed\"]]).ravel()\n",
    "\n",
    "imputer.fit(DF[[\"MinTemp\"]])\n",
    "DF[\"MinTemp\"] = imputer.transform(DF[[\"MinTemp\"]]).ravel()\n",
    "\n",
    "imputer.fit(DF[[\"Rainfall\"]])\n",
    "DF[\"Rainfall\"] = imputer.transform(DF[[\"Rainfall\"]]).ravel()\n",
    "\n",
    "imputer.fit(DF[[\"Temp3pm\"]])\n",
    "DF[\"Temp3pm\"] = imputer.transform(DF[[\"Temp3pm\"]]).ravel()\n",
    "\n",
    "imputer.fit(DF[[\"Temp9am\"]])\n",
    "DF[\"Temp9am\"] = imputer.transform(DF[[\"Temp9am\"]]).ravel()\n",
    "\n",
    "imputer.fit(DF[[\"Humidity3pm\"]])\n",
    "DF[\"Humidity3pm\"] = imputer.transform(DF[[\"Humidity3pm\"]]).ravel()\n",
    "\n",
    "imputer.fit(DF[[\"Humidity9am\"]])\n",
    "DF[\"Humidity9am\"] = imputer.transform(DF[[\"Humidity9am\"]]).ravel()\n"
   ]
  },
  {
   "cell_type": "code",
   "execution_count": null,
   "id": "5a80904e",
   "metadata": {
    "colab": {
     "base_uri": "https://localhost:8080/"
    },
    "id": "5a80904e",
    "outputId": "8cdf8213-85a7-4fb8-906d-6a4af0714446"
   },
   "outputs": [
    {
     "data": {
      "text/plain": [
       "count     10539\n",
       "unique       16\n",
       "top         SSE\n",
       "freq       1853\n",
       "Name: WindDir9am, dtype: object"
      ]
     },
     "execution_count": 15,
     "metadata": {},
     "output_type": "execute_result"
    }
   ],
   "source": [
    "DF.WindDir9am.describe()"
   ]
  },
  {
   "cell_type": "code",
   "execution_count": null,
   "id": "f30becaa",
   "metadata": {
    "colab": {
     "base_uri": "https://localhost:8080/"
    },
    "id": "f30becaa",
    "outputId": "ea1ad077-e754-46a8-f88a-97f0ac3628a8"
   },
   "outputs": [
    {
     "data": {
      "text/plain": [
       "count     10659\n",
       "unique       16\n",
       "top         ENE\n",
       "freq       1614\n",
       "Name: WindGustDir, dtype: object"
      ]
     },
     "execution_count": 16,
     "metadata": {},
     "output_type": "execute_result"
    }
   ],
   "source": [
    "DF.WindGustDir.describe()"
   ]
  },
  {
   "cell_type": "markdown",
   "id": "LfBd_xLi4bGz",
   "metadata": {
    "id": "LfBd_xLi4bGz"
   },
   "source": [
    "En el caso de las variables 'WindDir9am' y 'WindGustDir', les imputaremos los resultados mas repetidos, es decir, por la moda de cada variable"
   ]
  },
  {
   "cell_type": "code",
   "execution_count": null,
   "id": "b215309b",
   "metadata": {
    "id": "b215309b"
   },
   "outputs": [],
   "source": [
    "DF['WindDir9am'].fillna('SSE', inplace=True)\n",
    "DF['WindGustDir'].fillna('ENE', inplace=True)"
   ]
  },
  {
   "cell_type": "code",
   "execution_count": null,
   "id": "f461b777",
   "metadata": {
    "colab": {
     "base_uri": "https://localhost:8080/"
    },
    "id": "f461b777",
    "outputId": "05f69fcf-e046-413a-8d5e-9f8b7a468ca1"
   },
   "outputs": [
    {
     "data": {
      "text/plain": [
       "Location          0\n",
       "MinTemp           0\n",
       "MaxTemp          22\n",
       "Rainfall          0\n",
       "Evaporation       0\n",
       "Sunshine          0\n",
       "WindGustDir       0\n",
       "WindGustSpeed     0\n",
       "WindDir9am        0\n",
       "WindDir3pm       26\n",
       "WindSpeed9am      0\n",
       "WindSpeed3pm      0\n",
       "Humidity9am       0\n",
       "Humidity3pm       0\n",
       "Pressure9am       0\n",
       "Pressure3pm       0\n",
       "Cloud9am          0\n",
       "Cloud3pm          0\n",
       "Temp9am           0\n",
       "Temp3pm           0\n",
       "RainToday        44\n",
       "RISK_MM           0\n",
       "RainTomorrow      0\n",
       "Day               0\n",
       "Month             0\n",
       "Year              0\n",
       "dtype: int64"
      ]
     },
     "execution_count": 18,
     "metadata": {},
     "output_type": "execute_result"
    }
   ],
   "source": [
    "DF.isnull().sum()"
   ]
  },
  {
   "cell_type": "markdown",
   "id": "qGX7b7aqsvHy",
   "metadata": {
    "id": "qGX7b7aqsvHy"
   },
   "source": [
    "###Una vez imputados los datos, podemos visualizar que la cantidad de datos nulos ha bajado considerablemente.![datosnulosdefinitivo.png](data:image/png;base64,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)"
   ]
  },
  {
   "cell_type": "markdown",
   "id": "Zg9CVt6jt0fk",
   "metadata": {
    "id": "Zg9CVt6jt0fk"
   },
   "source": [
    "###Aún tenemos datos nulos pero es una minoría de datos, por lo tanto optamos por eliminar estos datos nulos para que nuestro dataset quede limpio."
   ]
  },
  {
   "cell_type": "code",
   "execution_count": null,
   "id": "af651157",
   "metadata": {
    "id": "af651157"
   },
   "outputs": [],
   "source": [
    "DF1= DF.dropna()"
   ]
  },
  {
   "cell_type": "code",
   "execution_count": null,
   "id": "65147b81",
   "metadata": {
    "colab": {
     "base_uri": "https://localhost:8080/"
    },
    "id": "65147b81",
    "outputId": "a015b238-e7fb-4d93-fc11-cc9196104b85"
   },
   "outputs": [
    {
     "data": {
      "text/plain": [
       "Location         0\n",
       "MinTemp          0\n",
       "MaxTemp          0\n",
       "Rainfall         0\n",
       "Evaporation      0\n",
       "Sunshine         0\n",
       "WindGustDir      0\n",
       "WindGustSpeed    0\n",
       "WindDir9am       0\n",
       "WindDir3pm       0\n",
       "WindSpeed9am     0\n",
       "WindSpeed3pm     0\n",
       "Humidity9am      0\n",
       "Humidity3pm      0\n",
       "Pressure9am      0\n",
       "Pressure3pm      0\n",
       "Cloud9am         0\n",
       "Cloud3pm         0\n",
       "Temp9am          0\n",
       "Temp3pm          0\n",
       "RainToday        0\n",
       "RISK_MM          0\n",
       "RainTomorrow     0\n",
       "Day              0\n",
       "Month            0\n",
       "Year             0\n",
       "dtype: int64"
      ]
     },
     "execution_count": 20,
     "metadata": {},
     "output_type": "execute_result"
    }
   ],
   "source": [
    "DF1.isnull().sum()"
   ]
  },
  {
   "cell_type": "markdown",
   "id": "9W9YAYu4uC37",
   "metadata": {
    "id": "9W9YAYu4uC37"
   },
   "source": [
    "###Podemos apreciar que ya no existen datos nulos."
   ]
  },
  {
   "cell_type": "code",
   "execution_count": null,
   "id": "9ef5bc10",
   "metadata": {
    "colab": {
     "base_uri": "https://localhost:8080/",
     "height": 268
    },
    "id": "9ef5bc10",
    "outputId": "2641725d-752a-4a14-e891-818b98478681"
   },
   "outputs": [
    {
     "data": {
      "text/html": [
       "\n",
       "  <div id=\"df-ef4ceecb-8bae-4641-88b3-ac1f38e552df\">\n",
       "    <div class=\"colab-df-container\">\n",
       "      <div>\n",
       "<style scoped>\n",
       "    .dataframe tbody tr th:only-of-type {\n",
       "        vertical-align: middle;\n",
       "    }\n",
       "\n",
       "    .dataframe tbody tr th {\n",
       "        vertical-align: top;\n",
       "    }\n",
       "\n",
       "    .dataframe thead th {\n",
       "        text-align: right;\n",
       "    }\n",
       "</style>\n",
       "<table border=\"1\" class=\"dataframe\">\n",
       "  <thead>\n",
       "    <tr style=\"text-align: right;\">\n",
       "      <th></th>\n",
       "      <th>Location</th>\n",
       "      <th>MinTemp</th>\n",
       "      <th>MaxTemp</th>\n",
       "      <th>Rainfall</th>\n",
       "      <th>Evaporation</th>\n",
       "      <th>Sunshine</th>\n",
       "      <th>WindGustDir</th>\n",
       "      <th>WindGustSpeed</th>\n",
       "      <th>WindDir9am</th>\n",
       "      <th>WindDir3pm</th>\n",
       "      <th>...</th>\n",
       "      <th>Cloud9am</th>\n",
       "      <th>Cloud3pm</th>\n",
       "      <th>Temp9am</th>\n",
       "      <th>Temp3pm</th>\n",
       "      <th>RainToday</th>\n",
       "      <th>RISK_MM</th>\n",
       "      <th>RainTomorrow</th>\n",
       "      <th>Day</th>\n",
       "      <th>Month</th>\n",
       "      <th>Year</th>\n",
       "    </tr>\n",
       "  </thead>\n",
       "  <tbody>\n",
       "    <tr>\n",
       "      <th>136838</th>\n",
       "      <td>Darwin</td>\n",
       "      <td>23.6</td>\n",
       "      <td>32.0</td>\n",
       "      <td>39.2</td>\n",
       "      <td>5.2</td>\n",
       "      <td>7.8</td>\n",
       "      <td>NNW</td>\n",
       "      <td>35.0</td>\n",
       "      <td>NW</td>\n",
       "      <td>NW</td>\n",
       "      <td>...</td>\n",
       "      <td>6.0</td>\n",
       "      <td>7.0</td>\n",
       "      <td>29.4</td>\n",
       "      <td>31.6</td>\n",
       "      <td>Yes</td>\n",
       "      <td>0.2</td>\n",
       "      <td>No</td>\n",
       "      <td>4</td>\n",
       "      <td>1</td>\n",
       "      <td>2011</td>\n",
       "    </tr>\n",
       "    <tr>\n",
       "      <th>86143</th>\n",
       "      <td>Cairns</td>\n",
       "      <td>21.7</td>\n",
       "      <td>29.8</td>\n",
       "      <td>0.0</td>\n",
       "      <td>3.4</td>\n",
       "      <td>9.7</td>\n",
       "      <td>S</td>\n",
       "      <td>31.0</td>\n",
       "      <td>SSE</td>\n",
       "      <td>ENE</td>\n",
       "      <td>...</td>\n",
       "      <td>1.0</td>\n",
       "      <td>1.0</td>\n",
       "      <td>24.5</td>\n",
       "      <td>29.3</td>\n",
       "      <td>No</td>\n",
       "      <td>0.0</td>\n",
       "      <td>No</td>\n",
       "      <td>12</td>\n",
       "      <td>7</td>\n",
       "      <td>2012</td>\n",
       "    </tr>\n",
       "    <tr>\n",
       "      <th>86771</th>\n",
       "      <td>Cairns</td>\n",
       "      <td>20.5</td>\n",
       "      <td>26.7</td>\n",
       "      <td>1.6</td>\n",
       "      <td>3.0</td>\n",
       "      <td>4.9</td>\n",
       "      <td>ESE</td>\n",
       "      <td>41.0</td>\n",
       "      <td>S</td>\n",
       "      <td>SSE</td>\n",
       "      <td>...</td>\n",
       "      <td>7.0</td>\n",
       "      <td>6.0</td>\n",
       "      <td>23.2</td>\n",
       "      <td>26.6</td>\n",
       "      <td>Yes</td>\n",
       "      <td>0.8</td>\n",
       "      <td>No</td>\n",
       "      <td>31</td>\n",
       "      <td>5</td>\n",
       "      <td>2014</td>\n",
       "    </tr>\n",
       "    <tr>\n",
       "      <th>137798</th>\n",
       "      <td>Darwin</td>\n",
       "      <td>23.9</td>\n",
       "      <td>33.3</td>\n",
       "      <td>9.8</td>\n",
       "      <td>7.8</td>\n",
       "      <td>10.1</td>\n",
       "      <td>S</td>\n",
       "      <td>39.0</td>\n",
       "      <td>W</td>\n",
       "      <td>SW</td>\n",
       "      <td>...</td>\n",
       "      <td>3.0</td>\n",
       "      <td>7.0</td>\n",
       "      <td>30.9</td>\n",
       "      <td>29.2</td>\n",
       "      <td>Yes</td>\n",
       "      <td>26.4</td>\n",
       "      <td>Yes</td>\n",
       "      <td>18</td>\n",
       "      <td>11</td>\n",
       "      <td>2013</td>\n",
       "    </tr>\n",
       "  </tbody>\n",
       "</table>\n",
       "<p>4 rows × 26 columns</p>\n",
       "</div>\n",
       "      <button class=\"colab-df-convert\" onclick=\"convertToInteractive('df-ef4ceecb-8bae-4641-88b3-ac1f38e552df')\"\n",
       "              title=\"Convert this dataframe to an interactive table.\"\n",
       "              style=\"display:none;\">\n",
       "        \n",
       "  <svg xmlns=\"http://www.w3.org/2000/svg\" height=\"24px\"viewBox=\"0 0 24 24\"\n",
       "       width=\"24px\">\n",
       "    <path d=\"M0 0h24v24H0V0z\" fill=\"none\"/>\n",
       "    <path d=\"M18.56 5.44l.94 2.06.94-2.06 2.06-.94-2.06-.94-.94-2.06-.94 2.06-2.06.94zm-11 1L8.5 8.5l.94-2.06 2.06-.94-2.06-.94L8.5 2.5l-.94 2.06-2.06.94zm10 10l.94 2.06.94-2.06 2.06-.94-2.06-.94-.94-2.06-.94 2.06-2.06.94z\"/><path d=\"M17.41 7.96l-1.37-1.37c-.4-.4-.92-.59-1.43-.59-.52 0-1.04.2-1.43.59L10.3 9.45l-7.72 7.72c-.78.78-.78 2.05 0 2.83L4 21.41c.39.39.9.59 1.41.59.51 0 1.02-.2 1.41-.59l7.78-7.78 2.81-2.81c.8-.78.8-2.07 0-2.86zM5.41 20L4 18.59l7.72-7.72 1.47 1.35L5.41 20z\"/>\n",
       "  </svg>\n",
       "      </button>\n",
       "      \n",
       "  <style>\n",
       "    .colab-df-container {\n",
       "      display:flex;\n",
       "      flex-wrap:wrap;\n",
       "      gap: 12px;\n",
       "    }\n",
       "\n",
       "    .colab-df-convert {\n",
       "      background-color: #E8F0FE;\n",
       "      border: none;\n",
       "      border-radius: 50%;\n",
       "      cursor: pointer;\n",
       "      display: none;\n",
       "      fill: #1967D2;\n",
       "      height: 32px;\n",
       "      padding: 0 0 0 0;\n",
       "      width: 32px;\n",
       "    }\n",
       "\n",
       "    .colab-df-convert:hover {\n",
       "      background-color: #E2EBFA;\n",
       "      box-shadow: 0px 1px 2px rgba(60, 64, 67, 0.3), 0px 1px 3px 1px rgba(60, 64, 67, 0.15);\n",
       "      fill: #174EA6;\n",
       "    }\n",
       "\n",
       "    [theme=dark] .colab-df-convert {\n",
       "      background-color: #3B4455;\n",
       "      fill: #D2E3FC;\n",
       "    }\n",
       "\n",
       "    [theme=dark] .colab-df-convert:hover {\n",
       "      background-color: #434B5C;\n",
       "      box-shadow: 0px 1px 3px 1px rgba(0, 0, 0, 0.15);\n",
       "      filter: drop-shadow(0px 1px 2px rgba(0, 0, 0, 0.3));\n",
       "      fill: #FFFFFF;\n",
       "    }\n",
       "  </style>\n",
       "\n",
       "      <script>\n",
       "        const buttonEl =\n",
       "          document.querySelector('#df-ef4ceecb-8bae-4641-88b3-ac1f38e552df button.colab-df-convert');\n",
       "        buttonEl.style.display =\n",
       "          google.colab.kernel.accessAllowed ? 'block' : 'none';\n",
       "\n",
       "        async function convertToInteractive(key) {\n",
       "          const element = document.querySelector('#df-ef4ceecb-8bae-4641-88b3-ac1f38e552df');\n",
       "          const dataTable =\n",
       "            await google.colab.kernel.invokeFunction('convertToInteractive',\n",
       "                                                     [key], {});\n",
       "          if (!dataTable) return;\n",
       "\n",
       "          const docLinkHtml = 'Like what you see? Visit the ' +\n",
       "            '<a target=\"_blank\" href=https://colab.research.google.com/notebooks/data_table.ipynb>data table notebook</a>'\n",
       "            + ' to learn more about interactive tables.';\n",
       "          element.innerHTML = '';\n",
       "          dataTable['output_type'] = 'display_data';\n",
       "          await google.colab.output.renderOutput(dataTable, element);\n",
       "          const docLink = document.createElement('div');\n",
       "          docLink.innerHTML = docLinkHtml;\n",
       "          element.appendChild(docLink);\n",
       "        }\n",
       "      </script>\n",
       "    </div>\n",
       "  </div>\n",
       "  "
      ],
      "text/plain": [
       "       Location  MinTemp  MaxTemp  Rainfall  Evaporation  Sunshine  \\\n",
       "136838   Darwin     23.6     32.0      39.2          5.2       7.8   \n",
       "86143    Cairns     21.7     29.8       0.0          3.4       9.7   \n",
       "86771    Cairns     20.5     26.7       1.6          3.0       4.9   \n",
       "137798   Darwin     23.9     33.3       9.8          7.8      10.1   \n",
       "\n",
       "       WindGustDir  WindGustSpeed WindDir9am WindDir3pm  ...  Cloud9am  \\\n",
       "136838         NNW           35.0         NW         NW  ...       6.0   \n",
       "86143            S           31.0        SSE        ENE  ...       1.0   \n",
       "86771          ESE           41.0          S        SSE  ...       7.0   \n",
       "137798           S           39.0          W         SW  ...       3.0   \n",
       "\n",
       "        Cloud3pm  Temp9am  Temp3pm  RainToday  RISK_MM  RainTomorrow  Day  \\\n",
       "136838       7.0     29.4     31.6        Yes      0.2            No    4   \n",
       "86143        1.0     24.5     29.3         No      0.0            No   12   \n",
       "86771        6.0     23.2     26.6        Yes      0.8            No   31   \n",
       "137798       7.0     30.9     29.2        Yes     26.4           Yes   18   \n",
       "\n",
       "        Month  Year  \n",
       "136838      1  2011  \n",
       "86143       7  2012  \n",
       "86771       5  2014  \n",
       "137798     11  2013  \n",
       "\n",
       "[4 rows x 26 columns]"
      ]
     },
     "execution_count": 21,
     "metadata": {},
     "output_type": "execute_result"
    }
   ],
   "source": [
    "DF1.sample(4)"
   ]
  },
  {
   "cell_type": "markdown",
   "id": "TGOSYnj-uiSI",
   "metadata": {
    "id": "TGOSYnj-uiSI"
   },
   "source": [
    "###Verificamos que no existan datos duplicados"
   ]
  },
  {
   "cell_type": "code",
   "execution_count": null,
   "id": "10f6cb35-5cda-45ae-8f89-92b10de84fae",
   "metadata": {
    "colab": {
     "base_uri": "https://localhost:8080/"
    },
    "id": "10f6cb35-5cda-45ae-8f89-92b10de84fae",
    "outputId": "160358d9-b42e-431f-e27d-4c4187b33992"
   },
   "outputs": [
    {
     "data": {
      "text/plain": [
       "0"
      ]
     },
     "execution_count": 22,
     "metadata": {},
     "output_type": "execute_result"
    }
   ],
   "source": [
    "DF1.duplicated().sum()"
   ]
  },
  {
   "cell_type": "markdown",
   "id": "upN9zJGPurER",
   "metadata": {
    "id": "upN9zJGPurER"
   },
   "source": [
    "###Para poder continuar con nuestra preparación de la data debemos encodear los datos a números, de lo contrario no podemos avanzar."
   ]
  },
  {
   "cell_type": "code",
   "execution_count": null,
   "id": "f2982501-cf17-4f0c-8345-58ce8adbcba2",
   "metadata": {
    "colab": {
     "base_uri": "https://localhost:8080/"
    },
    "id": "f2982501-cf17-4f0c-8345-58ce8adbcba2",
    "outputId": "b1de193a-82ab-44a3-fb5e-5e0c3398763c"
   },
   "outputs": [
    {
     "name": "stderr",
     "output_type": "stream",
     "text": [
      "<ipython-input-23-40d914f1e21a>:3: SettingWithCopyWarning: \n",
      "A value is trying to be set on a copy of a slice from a DataFrame.\n",
      "Try using .loc[row_indexer,col_indexer] = value instead\n",
      "\n",
      "See the caveats in the documentation: https://pandas.pydata.org/pandas-docs/stable/user_guide/indexing.html#returning-a-view-versus-a-copy\n",
      "  DF1['RainToday'] = label_encoder.fit_transform(DF1['RainToday'])\n",
      "<ipython-input-23-40d914f1e21a>:4: SettingWithCopyWarning: \n",
      "A value is trying to be set on a copy of a slice from a DataFrame.\n",
      "Try using .loc[row_indexer,col_indexer] = value instead\n",
      "\n",
      "See the caveats in the documentation: https://pandas.pydata.org/pandas-docs/stable/user_guide/indexing.html#returning-a-view-versus-a-copy\n",
      "  DF1['RainTomorrow'] = label_encoder.fit_transform(DF1['RainTomorrow'])\n",
      "<ipython-input-23-40d914f1e21a>:5: SettingWithCopyWarning: \n",
      "A value is trying to be set on a copy of a slice from a DataFrame.\n",
      "Try using .loc[row_indexer,col_indexer] = value instead\n",
      "\n",
      "See the caveats in the documentation: https://pandas.pydata.org/pandas-docs/stable/user_guide/indexing.html#returning-a-view-versus-a-copy\n",
      "  DF1['WindGustDir'] = label_encoder.fit_transform(DF1['WindGustDir'])\n",
      "<ipython-input-23-40d914f1e21a>:6: SettingWithCopyWarning: \n",
      "A value is trying to be set on a copy of a slice from a DataFrame.\n",
      "Try using .loc[row_indexer,col_indexer] = value instead\n",
      "\n",
      "See the caveats in the documentation: https://pandas.pydata.org/pandas-docs/stable/user_guide/indexing.html#returning-a-view-versus-a-copy\n",
      "  DF1['WindDir9am'] = label_encoder.fit_transform(DF1['WindDir9am'])\n",
      "<ipython-input-23-40d914f1e21a>:7: SettingWithCopyWarning: \n",
      "A value is trying to be set on a copy of a slice from a DataFrame.\n",
      "Try using .loc[row_indexer,col_indexer] = value instead\n",
      "\n",
      "See the caveats in the documentation: https://pandas.pydata.org/pandas-docs/stable/user_guide/indexing.html#returning-a-view-versus-a-copy\n",
      "  DF1['WindDir3pm'] = label_encoder.fit_transform(DF1['WindDir3pm'])\n"
     ]
    },
    {
     "data": {
      "text/plain": [
       "array([0, 1])"
      ]
     },
     "execution_count": 23,
     "metadata": {},
     "output_type": "execute_result"
    }
   ],
   "source": [
    "#Encodeamos los datos a numero, para poder continuar\n",
    "label_encoder = preprocessing.LabelEncoder()\n",
    "DF1['RainToday'] = label_encoder.fit_transform(DF1['RainToday'])\n",
    "DF1['RainTomorrow'] = label_encoder.fit_transform(DF1['RainTomorrow'])\n",
    "DF1['WindGustDir'] = label_encoder.fit_transform(DF1['WindGustDir'])\n",
    "DF1['WindDir9am'] = label_encoder.fit_transform(DF1['WindDir9am'])\n",
    "DF1['WindDir3pm'] = label_encoder.fit_transform(DF1['WindDir3pm'])\n",
    "DF1['RainToday'].unique()"
   ]
  },
  {
   "cell_type": "code",
   "execution_count": null,
   "id": "11f3f318",
   "metadata": {
    "colab": {
     "base_uri": "https://localhost:8080/"
    },
    "id": "11f3f318",
    "outputId": "314a0871-ece8-494e-bd77-92c5474c9a9f"
   },
   "outputs": [
    {
     "data": {
      "text/plain": [
       "Darwin        3189\n",
       "Townsville    3026\n",
       "Cairns        2960\n",
       "Katherine     1505\n",
       "Name: Location, dtype: int64"
      ]
     },
     "execution_count": 24,
     "metadata": {},
     "output_type": "execute_result"
    }
   ],
   "source": [
    "#Contamos la cantidad de datos de cada estado federal que corresponde al clima Tropical\n",
    "DF1.Location.value_counts()"
   ]
  },
  {
   "cell_type": "markdown",
   "id": "3ccc857c",
   "metadata": {
    "id": "3ccc857c"
   },
   "source": [
    "#### Selección del estado más representativo"
   ]
  },
  {
   "cell_type": "markdown",
   "id": "xn-4PW0m4-mR",
   "metadata": {
    "id": "xn-4PW0m4-mR"
   },
   "source": [
    "En nuestro caso el estado mas representativo dentro del clima Tropical que presenta mas registros es el estado federal **'Darwin'** "
   ]
  },
  {
   "cell_type": "code",
   "execution_count": null,
   "id": "c0481162",
   "metadata": {
    "id": "c0481162"
   },
   "outputs": [],
   "source": [
    "DfD = DF1.loc[DF1['Location'] == 'Darwin' ]"
   ]
  },
  {
   "cell_type": "code",
   "execution_count": null,
   "id": "67745679",
   "metadata": {
    "colab": {
     "base_uri": "https://localhost:8080/"
    },
    "id": "67745679",
    "outputId": "ce480b6a-6b77-4fdc-f029-05fe652b2fd1"
   },
   "outputs": [
    {
     "data": {
      "text/plain": [
       "Darwin    3189\n",
       "Name: Location, dtype: int64"
      ]
     },
     "execution_count": 26,
     "metadata": {},
     "output_type": "execute_result"
    }
   ],
   "source": [
    "#Cantidad de datos del estado más representativo\n",
    "DfD.Location.value_counts()"
   ]
  },
  {
   "cell_type": "code",
   "execution_count": null,
   "id": "b6075673",
   "metadata": {
    "id": "b6075673"
   },
   "outputs": [],
   "source": [
    "DF2 = DfD.drop(['Location'],axis=1)\n",
    "\n",
    "#Exportamos el dataset a csv, para realizar test de anova\n",
    "DF2.to_csv('TropicalWeatherAus.csv')"
   ]
  },
  {
   "cell_type": "markdown",
   "id": "DjYdLvZDxX8j",
   "metadata": {
    "id": "DjYdLvZDxX8j"
   },
   "source": [
    "###En este apartado comenzamos con el modelamiento de la data (MODELING)"
   ]
  },
  {
   "cell_type": "markdown",
   "id": "VGkbfr5gxHK8",
   "metadata": {
    "id": "VGkbfr5gxHK8"
   },
   "source": [
    "A continuación podemos ver el resultado del Test de Anova realizado en Rstudio. Esto se realiza para continuar con el modelado de la data."
   ]
  },
  {
   "cell_type": "markdown",
   "id": "d1acdbbb",
   "metadata": {
    "id": "d1acdbbb"
   },
   "source": [
    "![TestAnova.png](data:image/png;base64,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)"
   ]
  },
  {
   "cell_type": "markdown",
   "id": "77wKBn4w36Da",
   "metadata": {
    "id": "77wKBn4w36Da"
   },
   "source": [
    "#### Además adjuntamos un mapa de calor para identificar cuales variables tienen correlación"
   ]
  },
  {
   "cell_type": "code",
   "execution_count": null,
   "id": "bade9ebd-ca13-411b-9e30-6e2e573d3dba",
   "metadata": {
    "colab": {
     "base_uri": "https://localhost:8080/",
     "height": 1000
    },
    "id": "bade9ebd-ca13-411b-9e30-6e2e573d3dba",
    "outputId": "3f521888-1d99-4de9-c51d-51f369e292a7"
   },
   "outputs": [
    {
     "name": "stderr",
     "output_type": "stream",
     "text": [
      "<ipython-input-28-2bcb4b75f003>:5: DeprecationWarning: `np.bool` is a deprecated alias for the builtin `bool`. To silence this warning, use `bool` by itself. Doing this will not modify any behavior and is safe. If you specifically wanted the numpy scalar type, use `np.bool_` here.\n",
      "Deprecated in NumPy 1.20; for more details and guidance: https://numpy.org/devdocs/release/1.20.0-notes.html#deprecations\n",
      "  mask = np.zeros_like(corr, dtype=np.bool)\n"
     ]
    },
    {
     "name": "stdout",
     "output_type": "stream",
     "text": [
      "                MinTemp   MaxTemp  Rainfall  Evaporation  Sunshine  \\\n",
      "MinTemp        1.000000  0.462997  0.052987    -0.150438 -0.338044   \n",
      "MaxTemp        0.462997  1.000000 -0.302494     0.140203  0.406540   \n",
      "Rainfall       0.052987 -0.302494  1.000000     0.002488 -0.446138   \n",
      "Evaporation   -0.150438  0.140203  0.002488     1.000000  0.259721   \n",
      "Sunshine      -0.338044  0.406540 -0.446138     0.259721  1.000000   \n",
      "WindGustDir    0.354512 -0.051576  0.186896    -0.114013 -0.277446   \n",
      "WindGustSpeed  0.007739 -0.125374  0.306761     0.145708 -0.237045   \n",
      "WindDir9am     0.206930 -0.059430  0.131178    -0.010488 -0.217264   \n",
      "WindDir3pm     0.289299 -0.015212  0.139942    -0.098037 -0.227815   \n",
      "WindSpeed9am  -0.174724 -0.263441  0.073148     0.149715  0.013227   \n",
      "WindSpeed3pm   0.156218  0.168640  0.038257     0.130218  0.127703   \n",
      "Humidity9am    0.524879  0.016655  0.362375    -0.389173 -0.552297   \n",
      "Humidity3pm    0.608375 -0.122311  0.368309    -0.345021 -0.678093   \n",
      "Pressure9am   -0.608963  0.026463 -0.412104     0.303025  0.619099   \n",
      "Pressure3pm   -0.610722 -0.042651 -0.395214     0.267578  0.564494   \n",
      "Cloud9am       0.443319 -0.135729  0.313185    -0.228685 -0.661993   \n",
      "Cloud3pm       0.451084 -0.141033  0.294838    -0.276986 -0.675575   \n",
      "Temp9am        0.853297  0.655149 -0.061614    -0.108944 -0.083577   \n",
      "Temp3pm        0.311371  0.799154 -0.281130     0.160450  0.496790   \n",
      "RainToday      0.215026 -0.189624  0.509725    -0.244288 -0.538479   \n",
      "RISK_MM        0.152645 -0.246479  0.418348    -0.107346 -0.441053   \n",
      "Day           -0.008019 -0.023891  0.021889    -0.041609 -0.049420   \n",
      "Month         -0.078723  0.243181 -0.149595     0.197749  0.204376   \n",
      "Year           0.065715  0.035068  0.009923    -0.021977  0.028781   \n",
      "\n",
      "               WindGustDir  WindGustSpeed  WindDir9am  WindDir3pm  \\\n",
      "MinTemp           0.354512       0.007739    0.206930    0.289299   \n",
      "MaxTemp          -0.051576      -0.125374   -0.059430   -0.015212   \n",
      "Rainfall          0.186896       0.306761    0.131178    0.139942   \n",
      "Evaporation      -0.114013       0.145708   -0.010488   -0.098037   \n",
      "Sunshine         -0.277446      -0.237045   -0.217264   -0.227815   \n",
      "WindGustDir       1.000000      -0.014521    0.444925    0.540762   \n",
      "WindGustSpeed    -0.014521       1.000000    0.147218    0.041357   \n",
      "WindDir9am        0.444925       0.147218    1.000000    0.449482   \n",
      "WindDir3pm        0.540762       0.041357    0.449482    1.000000   \n",
      "WindSpeed9am     -0.097368       0.389875   -0.011380   -0.123031   \n",
      "WindSpeed3pm      0.163733       0.288745    0.171247    0.117985   \n",
      "Humidity9am       0.314430       0.009705    0.126369    0.264695   \n",
      "Humidity3pm       0.431335       0.065611    0.250668    0.377144   \n",
      "Pressure9am      -0.445077      -0.197071   -0.327905   -0.419609   \n",
      "Pressure3pm      -0.444614      -0.188551   -0.318647   -0.418869   \n",
      "Cloud9am          0.258980       0.139621    0.211894    0.242183   \n",
      "Cloud3pm          0.250362       0.141379    0.197625    0.236340   \n",
      "Temp9am           0.312426      -0.086969    0.139133    0.275701   \n",
      "Temp3pm          -0.085393      -0.141046   -0.074158   -0.036828   \n",
      "RainToday         0.255312       0.221699    0.158749    0.244400   \n",
      "RISK_MM           0.164030       0.328521    0.133257    0.155367   \n",
      "Day               0.036896      -0.038337    0.014675    0.036358   \n",
      "Month            -0.141154      -0.129415   -0.164840   -0.125994   \n",
      "Year              0.000648      -0.025771    0.005044    0.000483   \n",
      "\n",
      "               WindSpeed9am  ...  Pressure3pm  Cloud9am  Cloud3pm   Temp9am  \\\n",
      "MinTemp           -0.174724  ...    -0.610722  0.443319  0.451084  0.853297   \n",
      "MaxTemp           -0.263441  ...    -0.042651 -0.135729 -0.141033  0.655149   \n",
      "Rainfall           0.073148  ...    -0.395214  0.313185  0.294838 -0.061614   \n",
      "Evaporation        0.149715  ...     0.267578 -0.228685 -0.276986 -0.108944   \n",
      "Sunshine           0.013227  ...     0.564494 -0.661993 -0.675575 -0.083577   \n",
      "WindGustDir       -0.097368  ...    -0.444614  0.258980  0.250362  0.312426   \n",
      "WindGustSpeed      0.389875  ...    -0.188551  0.139621  0.141379 -0.086969   \n",
      "WindDir9am        -0.011380  ...    -0.318647  0.211894  0.197625  0.139133   \n",
      "WindDir3pm        -0.123031  ...    -0.418869  0.242183  0.236340  0.275701   \n",
      "WindSpeed9am       1.000000  ...     0.081639 -0.034404 -0.041229 -0.350218   \n",
      "WindSpeed3pm       0.200990  ...    -0.071099 -0.051634 -0.096164  0.191615   \n",
      "Humidity9am       -0.348246  ...    -0.595385  0.518967  0.506811  0.411155   \n",
      "Humidity3pm       -0.259951  ...    -0.688669  0.564118  0.621004  0.493308   \n",
      "Pressure9am        0.055403  ...     0.975824 -0.597506 -0.631727 -0.470701   \n",
      "Pressure3pm        0.081639  ...     1.000000 -0.565246 -0.583623 -0.493320   \n",
      "Cloud9am          -0.034404  ...    -0.565246  1.000000  0.763411  0.221472   \n",
      "Cloud3pm          -0.041229  ...    -0.583623  0.763411  1.000000  0.264802   \n",
      "Temp9am           -0.350218  ...    -0.493320  0.221472  0.264802  1.000000   \n",
      "Temp3pm           -0.115991  ...     0.028677 -0.183683 -0.248752  0.448772   \n",
      "RainToday         -0.063865  ...    -0.533071  0.460745  0.454025  0.128250   \n",
      "RISK_MM            0.020424  ...    -0.389782  0.272529  0.307580  0.052365   \n",
      "Day               -0.034684  ...    -0.003428  0.027697  0.009212 -0.023929   \n",
      "Month             -0.144523  ...     0.213533 -0.183042 -0.247363  0.076858   \n",
      "Year              -0.046576  ...     0.055754 -0.052693 -0.040549  0.063934   \n",
      "\n",
      "                Temp3pm  RainToday   RISK_MM       Day     Month      Year  \n",
      "MinTemp        0.311371   0.215026  0.152645 -0.008019 -0.078723  0.065715  \n",
      "MaxTemp        0.799154  -0.189624 -0.246479 -0.023891  0.243181  0.035068  \n",
      "Rainfall      -0.281130   0.509725  0.418348  0.021889 -0.149595  0.009923  \n",
      "Evaporation    0.160450  -0.244288 -0.107346 -0.041609  0.197749 -0.021977  \n",
      "Sunshine       0.496790  -0.538479 -0.441053 -0.049420  0.204376  0.028781  \n",
      "WindGustDir   -0.085393   0.255312  0.164030  0.036896 -0.141154  0.000648  \n",
      "WindGustSpeed -0.141046   0.221699  0.328521 -0.038337 -0.129415 -0.025771  \n",
      "WindDir9am    -0.074158   0.158749  0.133257  0.014675 -0.164840  0.005044  \n",
      "WindDir3pm    -0.036828   0.244400  0.155367  0.036358 -0.125994  0.000483  \n",
      "WindSpeed9am  -0.115991  -0.063865  0.020424 -0.034684 -0.144523 -0.046576  \n",
      "WindSpeed3pm   0.180567  -0.057936  0.019237 -0.041719  0.014179 -0.062556  \n",
      "Humidity9am   -0.092582   0.507272  0.290147  0.043533 -0.226844  0.031051  \n",
      "Humidity3pm   -0.383001   0.530743  0.405183  0.013475 -0.210307  0.020318  \n",
      "Pressure9am    0.105385  -0.549995 -0.399695 -0.006297  0.272672  0.042929  \n",
      "Pressure3pm    0.028677  -0.533071 -0.389782 -0.003428  0.213533  0.055754  \n",
      "Cloud9am      -0.183683   0.460745  0.272529  0.027697 -0.183042 -0.052693  \n",
      "Cloud3pm      -0.248752   0.454025  0.307580  0.009212 -0.247363 -0.040549  \n",
      "Temp9am        0.448772   0.128250  0.052365 -0.023929  0.076858  0.063934  \n",
      "Temp3pm        1.000000  -0.222733 -0.327675 -0.014695  0.159449  0.056032  \n",
      "RainToday     -0.222733   1.000000  0.330161  0.031334 -0.191637  0.015425  \n",
      "RISK_MM       -0.327675   0.330161  1.000000  0.020287 -0.141701  0.008819  \n",
      "Day           -0.014695   0.031334  0.020287  1.000000  0.008170 -0.006460  \n",
      "Month          0.159449  -0.191637 -0.141701  0.008170  1.000000 -0.168570  \n",
      "Year           0.056032   0.015425  0.008819 -0.006460 -0.168570  1.000000  \n",
      "\n",
      "[24 rows x 24 columns]\n"
     ]
    },
    {
     "data": {
      "text/plain": [
       "<Axes: >"
      ]
     },
     "execution_count": 28,
     "metadata": {},
     "output_type": "execute_result"
    },
    {
     "data": {
      "image/png": "[encoded data removed]",
      "text/plain": [
       "<Figure size 1100x900 with 2 Axes>"
      ]
     },
     "metadata": {},
     "output_type": "display_data"
    }
   ],
   "source": [
    "corr = DF2.set_index('RainTomorrow').corr()\n",
    "print(corr)\n",
    "\n",
    "# Para excluir las correlaciones duplicadas\n",
    "mask = np.zeros_like(corr, dtype=np.bool)\n",
    "mask[np.triu_indices_from(mask)] = True\n",
    "\n",
    "# Tamaño de la Figura\n",
    "f, ax = plt.subplots(figsize=(11, 9))\n",
    "\n",
    "# Generar paleta de color\n",
    "cmap = sns.diverging_palette(230, 20, as_cmap=True)\n",
    "\n",
    "# Mapa de calor con el Mask correcto\n",
    "sns.heatmap(corr, mask=mask, cmap=cmap,\n",
    "            square=True, linewidths=.5, cbar_kws={\"shrink\": .5})"
   ]
  },
  {
   "cell_type": "markdown",
   "id": "1809e1a8",
   "metadata": {
    "id": "1809e1a8"
   },
   "source": [
    "### Outliers, aquellos datos que se encuentran muy alejados de la concentración de datos. Aplicaremos BoxPLOT para visualizarlo."
   ]
  },
  {
   "cell_type": "markdown",
   "id": "h--dHMuz4DjB",
   "metadata": {
    "id": "h--dHMuz4DjB"
   },
   "source": [
    "Mediante este grafico de cajas, podemos apreciar como esta la distribucion y la tendencia central de los valores de cada variable"
   ]
  },
  {
   "cell_type": "code",
   "execution_count": null,
   "id": "207e7ae2",
   "metadata": {
    "colab": {
     "base_uri": "https://localhost:8080/",
     "height": 218
    },
    "id": "207e7ae2",
    "outputId": "c0597836-a8f0-43a6-9cca-b911e1163592"
   },
   "outputs": [
    {
     "data": {
      "image/png": "[encoded data removed]",
      "text/plain": [
       "<Figure size 2000x500 with 1 Axes>"
      ]
     },
     "metadata": {},
     "output_type": "display_data"
    }
   ],
   "source": [
    "plt.figure(figsize=(20,5))\n",
    "gf= sns.boxplot(x=\"variable\", y=\"value\", data=pd.melt(DF2))\n",
    "gf.tick_params(axis='x', rotation=45)\n",
    "plt.show()"
   ]
  },
  {
   "cell_type": "markdown",
   "id": "ec3c64b6",
   "metadata": {
    "id": "ec3c64b6"
   },
   "source": [
    "Para el tratamiento de outliers, decidimos reemplazar los outliers por valores que sean mas representativos. En este ejemplo remplazamos los valores que esten sobre el limite inferior(percentil 5) y bajo el limite superior(percentil 95) por la media correspondiente de cada columna.\n",
    "\n",
    "se calculan los percentiles del 5% y del 95% respectivamente. Estos valores se utilizan como límites inferior y superior para identificar los outliers en los datos."
   ]
  },
  {
   "cell_type": "code",
   "execution_count": null,
   "id": "eacc67f8",
   "metadata": {
    "id": "eacc67f8"
   },
   "outputs": [],
   "source": [
    "lower_limit = DF2.quantile(0.05)\n",
    "upper_limit = DF2.quantile(0.95)\n",
    "\n",
    "# Reemplazar los outliers por valores representativos (media en este ejemplo)\n",
    "DFnorm = DF2.copy()\n",
    "DFnorm = DFnorm.where((DFnorm >= lower_limit) & (DFnorm <= upper_limit), DF2.mean(),axis=1)"
   ]
  },
  {
   "cell_type": "markdown",
   "id": "Xi7dOjjb4fmI",
   "metadata": {
    "id": "Xi7dOjjb4fmI"
   },
   "source": [
    "##### Una vez ya realizado el procedimiento, volvemos a desplegar el grafico para visualizar los cambios."
   ]
  },
  {
   "cell_type": "code",
   "execution_count": null,
   "id": "1ca32ec4",
   "metadata": {
    "colab": {
     "base_uri": "https://localhost:8080/",
     "height": 218
    },
    "id": "1ca32ec4",
    "outputId": "ff2bcc0c-4515-4b34-8822-f0bc2d77c444"
   },
   "outputs": [
    {
     "data": {
      "image/png": "[encoded data removed]",
      "text/plain": [
       "<Figure size 2000x500 with 1 Axes>"
      ]
     },
     "metadata": {},
     "output_type": "display_data"
    }
   ],
   "source": [
    "plt.figure(figsize=(20,5))\n",
    "gf= sns.boxplot(x=\"variable\", y=\"value\", data=pd.melt(DFnorm))\n",
    "gf.tick_params(axis='x', rotation=45)\n",
    "plt.show()"
   ]
  },
  {
   "cell_type": "markdown",
   "id": "EEdYjNUz4sJP",
   "metadata": {
    "id": "EEdYjNUz4sJP"
   },
   "source": [
    "#### Aqui ya podemos apreciar que no existen outliers, es decir, nuestro dataset se encuentra normalizado\n",
    "\n",
    "\n"
   ]
  },
  {
   "cell_type": "markdown",
   "id": "RHS6nn5L48SW",
   "metadata": {
    "id": "RHS6nn5L48SW"
   },
   "source": [
    "Procedemos nuevamente a realizar un Test de Anova con el dataset ya normalizado, para evidenciar si se mantienen nuestras variables predictoras o debemos agregar de mas"
   ]
  },
  {
   "cell_type": "code",
   "execution_count": null,
   "id": "070c3ce9",
   "metadata": {
    "id": "070c3ce9"
   },
   "outputs": [],
   "source": [
    "#Exportamos el dataset a csv, para realizar test de anova\n",
    "DFnorm.to_csv('WeatherAusNORM.csv')"
   ]
  },
  {
   "cell_type": "markdown",
   "id": "534d6e43",
   "metadata": {
    "id": "534d6e43"
   },
   "source": [
    "![TestAnovaNORM.png](data:image/png;base64,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)"
   ]
  },
  {
   "cell_type": "markdown",
   "id": "5db79cbd",
   "metadata": {
    "id": "5db79cbd"
   },
   "source": [
    "### Predicción. Para comenzar importamos las librerias necesarias para los modelos de clasificación."
   ]
  },
  {
   "cell_type": "code",
   "execution_count": null,
   "id": "5050da3e",
   "metadata": {
    "id": "5050da3e"
   },
   "outputs": [],
   "source": [
    "from sklearn.model_selection import train_test_split\n",
    "from sklearn.linear_model import LogisticRegression\n",
    "from sklearn.svm import SVC\n",
    "from sklearn.neighbors import KNeighborsClassifier\n",
    "from sklearn.tree import DecisionTreeClassifier\n",
    "from sklearn.linear_model import LinearRegression\n",
    "import statsmodels.api as sm"
   ]
  },
  {
   "cell_type": "code",
   "execution_count": null,
   "id": "b2dad0cb",
   "metadata": {
    "colab": {
     "base_uri": "https://localhost:8080/",
     "height": 833
    },
    "id": "b2dad0cb",
    "outputId": "80308288-c87e-409d-c050-d99f1869e00b",
    "scrolled": false
   },
   "outputs": [
    {
     "data": {
      "text/html": [
       "\n",
       "  <div id=\"df-b4dc30b4-d4b0-4c33-9fcf-5e006978f720\">\n",
       "    <div class=\"colab-df-container\">\n",
       "      <div>\n",
       "<style scoped>\n",
       "    .dataframe tbody tr th:only-of-type {\n",
       "        vertical-align: middle;\n",
       "    }\n",
       "\n",
       "    .dataframe tbody tr th {\n",
       "        vertical-align: top;\n",
       "    }\n",
       "\n",
       "    .dataframe thead th {\n",
       "        text-align: right;\n",
       "    }\n",
       "</style>\n",
       "<table border=\"1\" class=\"dataframe\">\n",
       "  <thead>\n",
       "    <tr style=\"text-align: right;\">\n",
       "      <th></th>\n",
       "      <th>138867</th>\n",
       "      <th>136274</th>\n",
       "      <th>136548</th>\n",
       "      <th>138298</th>\n",
       "      <th>137493</th>\n",
       "    </tr>\n",
       "  </thead>\n",
       "  <tbody>\n",
       "    <tr>\n",
       "      <th>MinTemp</th>\n",
       "      <td>24.0</td>\n",
       "      <td>16.2</td>\n",
       "      <td>25.0</td>\n",
       "      <td>23.7</td>\n",
       "      <td>25.7</td>\n",
       "    </tr>\n",
       "    <tr>\n",
       "      <th>MaxTemp</th>\n",
       "      <td>26.7</td>\n",
       "      <td>28.4</td>\n",
       "      <td>32.7</td>\n",
       "      <td>32.5</td>\n",
       "      <td>33.3</td>\n",
       "    </tr>\n",
       "    <tr>\n",
       "      <th>Rainfall</th>\n",
       "      <td>23.6</td>\n",
       "      <td>0.0</td>\n",
       "      <td>9.0</td>\n",
       "      <td>8.4</td>\n",
       "      <td>0.0</td>\n",
       "    </tr>\n",
       "    <tr>\n",
       "      <th>Evaporation</th>\n",
       "      <td>9.2</td>\n",
       "      <td>7.2</td>\n",
       "      <td>6.2</td>\n",
       "      <td>4.6</td>\n",
       "      <td>4.0</td>\n",
       "    </tr>\n",
       "    <tr>\n",
       "      <th>Sunshine</th>\n",
       "      <td>0.0</td>\n",
       "      <td>10.5</td>\n",
       "      <td>4.0</td>\n",
       "      <td>10.9</td>\n",
       "      <td>8.3</td>\n",
       "    </tr>\n",
       "    <tr>\n",
       "      <th>WindGustDir</th>\n",
       "      <td>1.0</td>\n",
       "      <td>9.0</td>\n",
       "      <td>1.0</td>\n",
       "      <td>10.0</td>\n",
       "      <td>14.0</td>\n",
       "    </tr>\n",
       "    <tr>\n",
       "      <th>WindGustSpeed</th>\n",
       "      <td>41.0</td>\n",
       "      <td>33.0</td>\n",
       "      <td>30.0</td>\n",
       "      <td>31.0</td>\n",
       "      <td>31.0</td>\n",
       "    </tr>\n",
       "    <tr>\n",
       "      <th>WindDir9am</th>\n",
       "      <td>0.0</td>\n",
       "      <td>9.0</td>\n",
       "      <td>1.0</td>\n",
       "      <td>14.0</td>\n",
       "      <td>14.0</td>\n",
       "    </tr>\n",
       "    <tr>\n",
       "      <th>WindDir3pm</th>\n",
       "      <td>9.0</td>\n",
       "      <td>7.0</td>\n",
       "      <td>14.0</td>\n",
       "      <td>6.0</td>\n",
       "      <td>7.0</td>\n",
       "    </tr>\n",
       "    <tr>\n",
       "      <th>WindSpeed9am</th>\n",
       "      <td>24.0</td>\n",
       "      <td>26.0</td>\n",
       "      <td>20.0</td>\n",
       "      <td>2.0</td>\n",
       "      <td>13.0</td>\n",
       "    </tr>\n",
       "    <tr>\n",
       "      <th>WindSpeed3pm</th>\n",
       "      <td>24.0</td>\n",
       "      <td>17.0</td>\n",
       "      <td>11.0</td>\n",
       "      <td>15.0</td>\n",
       "      <td>19.0</td>\n",
       "    </tr>\n",
       "    <tr>\n",
       "      <th>Humidity9am</th>\n",
       "      <td>88.0</td>\n",
       "      <td>31.0</td>\n",
       "      <td>84.0</td>\n",
       "      <td>75.0</td>\n",
       "      <td>73.0</td>\n",
       "    </tr>\n",
       "    <tr>\n",
       "      <th>Humidity3pm</th>\n",
       "      <td>79.0</td>\n",
       "      <td>21.0</td>\n",
       "      <td>59.0</td>\n",
       "      <td>68.0</td>\n",
       "      <td>57.0</td>\n",
       "    </tr>\n",
       "    <tr>\n",
       "      <th>Pressure9am</th>\n",
       "      <td>1014.8</td>\n",
       "      <td>1015.3</td>\n",
       "      <td>1010.8</td>\n",
       "      <td>1010.2</td>\n",
       "      <td>1010.5</td>\n",
       "    </tr>\n",
       "    <tr>\n",
       "      <th>Pressure3pm</th>\n",
       "      <td>1011.2</td>\n",
       "      <td>1011.7</td>\n",
       "      <td>1007.4</td>\n",
       "      <td>1006.6</td>\n",
       "      <td>1007.1</td>\n",
       "    </tr>\n",
       "    <tr>\n",
       "      <th>Cloud9am</th>\n",
       "      <td>8.0</td>\n",
       "      <td>1.0</td>\n",
       "      <td>7.0</td>\n",
       "      <td>2.0</td>\n",
       "      <td>6.0</td>\n",
       "    </tr>\n",
       "    <tr>\n",
       "      <th>Cloud3pm</th>\n",
       "      <td>8.0</td>\n",
       "      <td>1.0</td>\n",
       "      <td>7.0</td>\n",
       "      <td>2.0</td>\n",
       "      <td>4.0</td>\n",
       "    </tr>\n",
       "    <tr>\n",
       "      <th>Temp9am</th>\n",
       "      <td>24.5</td>\n",
       "      <td>19.1</td>\n",
       "      <td>26.7</td>\n",
       "      <td>29.8</td>\n",
       "      <td>30.0</td>\n",
       "    </tr>\n",
       "    <tr>\n",
       "      <th>Temp3pm</th>\n",
       "      <td>25.9</td>\n",
       "      <td>27.8</td>\n",
       "      <td>31.9</td>\n",
       "      <td>31.2</td>\n",
       "      <td>32.6</td>\n",
       "    </tr>\n",
       "    <tr>\n",
       "      <th>RainToday</th>\n",
       "      <td>1.0</td>\n",
       "      <td>0.0</td>\n",
       "      <td>1.0</td>\n",
       "      <td>1.0</td>\n",
       "      <td>0.0</td>\n",
       "    </tr>\n",
       "    <tr>\n",
       "      <th>RISK_MM</th>\n",
       "      <td>0.4</td>\n",
       "      <td>0.0</td>\n",
       "      <td>0.0</td>\n",
       "      <td>0.0</td>\n",
       "      <td>0.0</td>\n",
       "    </tr>\n",
       "    <tr>\n",
       "      <th>RainTomorrow</th>\n",
       "      <td>0.0</td>\n",
       "      <td>0.0</td>\n",
       "      <td>0.0</td>\n",
       "      <td>0.0</td>\n",
       "      <td>0.0</td>\n",
       "    </tr>\n",
       "    <tr>\n",
       "      <th>Day</th>\n",
       "      <td>22.0</td>\n",
       "      <td>19.0</td>\n",
       "      <td>20.0</td>\n",
       "      <td>2.0</td>\n",
       "      <td>19.0</td>\n",
       "    </tr>\n",
       "    <tr>\n",
       "      <th>Month</th>\n",
       "      <td>10.0</td>\n",
       "      <td>6.0</td>\n",
       "      <td>3.0</td>\n",
       "      <td>4.0</td>\n",
       "      <td>11.0</td>\n",
       "    </tr>\n",
       "    <tr>\n",
       "      <th>Year</th>\n",
       "      <td>2016.0</td>\n",
       "      <td>2009.0</td>\n",
       "      <td>2010.0</td>\n",
       "      <td>2015.0</td>\n",
       "      <td>2012.0</td>\n",
       "    </tr>\n",
       "  </tbody>\n",
       "</table>\n",
       "</div>\n",
       "      <button class=\"colab-df-convert\" onclick=\"convertToInteractive('df-b4dc30b4-d4b0-4c33-9fcf-5e006978f720')\"\n",
       "              title=\"Convert this dataframe to an interactive table.\"\n",
       "              style=\"display:none;\">\n",
       "        \n",
       "  <svg xmlns=\"http://www.w3.org/2000/svg\" height=\"24px\"viewBox=\"0 0 24 24\"\n",
       "       width=\"24px\">\n",
       "    <path d=\"M0 0h24v24H0V0z\" fill=\"none\"/>\n",
       "    <path d=\"M18.56 5.44l.94 2.06.94-2.06 2.06-.94-2.06-.94-.94-2.06-.94 2.06-2.06.94zm-11 1L8.5 8.5l.94-2.06 2.06-.94-2.06-.94L8.5 2.5l-.94 2.06-2.06.94zm10 10l.94 2.06.94-2.06 2.06-.94-2.06-.94-.94-2.06-.94 2.06-2.06.94z\"/><path d=\"M17.41 7.96l-1.37-1.37c-.4-.4-.92-.59-1.43-.59-.52 0-1.04.2-1.43.59L10.3 9.45l-7.72 7.72c-.78.78-.78 2.05 0 2.83L4 21.41c.39.39.9.59 1.41.59.51 0 1.02-.2 1.41-.59l7.78-7.78 2.81-2.81c.8-.78.8-2.07 0-2.86zM5.41 20L4 18.59l7.72-7.72 1.47 1.35L5.41 20z\"/>\n",
       "  </svg>\n",
       "      </button>\n",
       "      \n",
       "  <style>\n",
       "    .colab-df-container {\n",
       "      display:flex;\n",
       "      flex-wrap:wrap;\n",
       "      gap: 12px;\n",
       "    }\n",
       "\n",
       "    .colab-df-convert {\n",
       "      background-color: #E8F0FE;\n",
       "      border: none;\n",
       "      border-radius: 50%;\n",
       "      cursor: pointer;\n",
       "      display: none;\n",
       "      fill: #1967D2;\n",
       "      height: 32px;\n",
       "      padding: 0 0 0 0;\n",
       "      width: 32px;\n",
       "    }\n",
       "\n",
       "    .colab-df-convert:hover {\n",
       "      background-color: #E2EBFA;\n",
       "      box-shadow: 0px 1px 2px rgba(60, 64, 67, 0.3), 0px 1px 3px 1px rgba(60, 64, 67, 0.15);\n",
       "      fill: #174EA6;\n",
       "    }\n",
       "\n",
       "    [theme=dark] .colab-df-convert {\n",
       "      background-color: #3B4455;\n",
       "      fill: #D2E3FC;\n",
       "    }\n",
       "\n",
       "    [theme=dark] .colab-df-convert:hover {\n",
       "      background-color: #434B5C;\n",
       "      box-shadow: 0px 1px 3px 1px rgba(0, 0, 0, 0.15);\n",
       "      filter: drop-shadow(0px 1px 2px rgba(0, 0, 0, 0.3));\n",
       "      fill: #FFFFFF;\n",
       "    }\n",
       "  </style>\n",
       "\n",
       "      <script>\n",
       "        const buttonEl =\n",
       "          document.querySelector('#df-b4dc30b4-d4b0-4c33-9fcf-5e006978f720 button.colab-df-convert');\n",
       "        buttonEl.style.display =\n",
       "          google.colab.kernel.accessAllowed ? 'block' : 'none';\n",
       "\n",
       "        async function convertToInteractive(key) {\n",
       "          const element = document.querySelector('#df-b4dc30b4-d4b0-4c33-9fcf-5e006978f720');\n",
       "          const dataTable =\n",
       "            await google.colab.kernel.invokeFunction('convertToInteractive',\n",
       "                                                     [key], {});\n",
       "          if (!dataTable) return;\n",
       "\n",
       "          const docLinkHtml = 'Like what you see? Visit the ' +\n",
       "            '<a target=\"_blank\" href=https://colab.research.google.com/notebooks/data_table.ipynb>data table notebook</a>'\n",
       "            + ' to learn more about interactive tables.';\n",
       "          element.innerHTML = '';\n",
       "          dataTable['output_type'] = 'display_data';\n",
       "          await google.colab.output.renderOutput(dataTable, element);\n",
       "          const docLink = document.createElement('div');\n",
       "          docLink.innerHTML = docLinkHtml;\n",
       "          element.appendChild(docLink);\n",
       "        }\n",
       "      </script>\n",
       "    </div>\n",
       "  </div>\n",
       "  "
      ],
      "text/plain": [
       "               138867  136274  136548  138298  137493\n",
       "MinTemp          24.0    16.2    25.0    23.7    25.7\n",
       "MaxTemp          26.7    28.4    32.7    32.5    33.3\n",
       "Rainfall         23.6     0.0     9.0     8.4     0.0\n",
       "Evaporation       9.2     7.2     6.2     4.6     4.0\n",
       "Sunshine          0.0    10.5     4.0    10.9     8.3\n",
       "WindGustDir       1.0     9.0     1.0    10.0    14.0\n",
       "WindGustSpeed    41.0    33.0    30.0    31.0    31.0\n",
       "WindDir9am        0.0     9.0     1.0    14.0    14.0\n",
       "WindDir3pm        9.0     7.0    14.0     6.0     7.0\n",
       "WindSpeed9am     24.0    26.0    20.0     2.0    13.0\n",
       "WindSpeed3pm     24.0    17.0    11.0    15.0    19.0\n",
       "Humidity9am      88.0    31.0    84.0    75.0    73.0\n",
       "Humidity3pm      79.0    21.0    59.0    68.0    57.0\n",
       "Pressure9am    1014.8  1015.3  1010.8  1010.2  1010.5\n",
       "Pressure3pm    1011.2  1011.7  1007.4  1006.6  1007.1\n",
       "Cloud9am          8.0     1.0     7.0     2.0     6.0\n",
       "Cloud3pm          8.0     1.0     7.0     2.0     4.0\n",
       "Temp9am          24.5    19.1    26.7    29.8    30.0\n",
       "Temp3pm          25.9    27.8    31.9    31.2    32.6\n",
       "RainToday         1.0     0.0     1.0     1.0     0.0\n",
       "RISK_MM           0.4     0.0     0.0     0.0     0.0\n",
       "RainTomorrow      0.0     0.0     0.0     0.0     0.0\n",
       "Day              22.0    19.0    20.0     2.0    19.0\n",
       "Month            10.0     6.0     3.0     4.0    11.0\n",
       "Year           2016.0  2009.0  2010.0  2015.0  2012.0"
      ]
     },
     "execution_count": 34,
     "metadata": {},
     "output_type": "execute_result"
    }
   ],
   "source": [
    "#En esta ocasión realizamos un sample al dataframe de manera trasnpuesta para lograr visualizar todas las columnas que existen\n",
    "DF2.sample(5).T"
   ]
  },
  {
   "cell_type": "markdown",
   "id": "WA8IZ_uJy4Z3",
   "metadata": {
    "id": "WA8IZ_uJy4Z3"
   },
   "source": [
    "###Crearemos un nuevo dataframe para ingresar las variables que el test de Anova nos identifica como las que tienen una mayor correlación para luego generar el modelo predictivo."
   ]
  },
  {
   "cell_type": "code",
   "execution_count": null,
   "id": "5ef91d50",
   "metadata": {
    "id": "5ef91d50"
   },
   "outputs": [],
   "source": [
    "DFP = DFnorm[['RainTomorrow','MinTemp', 'MaxTemp', 'Rainfall', 'Evaporation', 'Sunshine', 'WindGustDir',\n",
    "           'WindGustSpeed', 'WindDir9am', 'WindDir3pm','WindSpeed9am', 'WindSpeed3pm','Humidity9am', \n",
    "           'Humidity3pm', 'Pressure9am', 'Pressure3pm','Cloud3pm', 'Temp3pm','RainToday', 'RISK_MM',\n",
    "           'Day','Month','Year']]"
   ]
  },
  {
   "cell_type": "code",
   "execution_count": null,
   "id": "2d3e338a",
   "metadata": {
    "colab": {
     "base_uri": "https://localhost:8080/"
    },
    "id": "2d3e338a",
    "outputId": "c7eb616a-919d-45a1-ef0c-7f1395977ae8"
   },
   "outputs": [
    {
     "name": "stdout",
     "output_type": "stream",
     "text": [
      "Son 2232 datos para entrenamiento y 957 datos de prueba\n",
      "Precisión Regresión Logistica: 0.9955197132616488\n"
     ]
    },
    {
     "name": "stderr",
     "output_type": "stream",
     "text": [
      "<ipython-input-36-af02948f9c32>:1: FutureWarning: In a future version of pandas all arguments of DataFrame.drop except for the argument 'labels' will be keyword-only.\n",
      "  X= np.array(DFP.drop(['RainTomorrow'],1)) # Datos numericos -categorias\n",
      "/usr/local/lib/python3.10/dist-packages/sklearn/linear_model/_logistic.py:458: ConvergenceWarning: lbfgs failed to converge (status=1):\n",
      "STOP: TOTAL NO. of ITERATIONS REACHED LIMIT.\n",
      "\n",
      "Increase the number of iterations (max_iter) or scale the data as shown in:\n",
      "    https://scikit-learn.org/stable/modules/preprocessing.html\n",
      "Please also refer to the documentation for alternative solver options:\n",
      "    https://scikit-learn.org/stable/modules/linear_model.html#logistic-regression\n",
      "  n_iter_i = _check_optimize_result(\n"
     ]
    }
   ],
   "source": [
    "X= np.array(DFP.drop(['RainTomorrow'],1)) # Datos numericos -categorias\n",
    "y = np.array(DFP['RainTomorrow'])# Datos no numericos Etiquetas - condicion\n",
    "\n",
    "X_train, X_test, y_train, y_test = train_test_split(X,y,test_size=0.3)\n",
    "print('Son {} datos para entrenamiento y {} datos de prueba'.format(X_train.shape[0],X_test.shape[0]))\n",
    "algoritmoLR= LogisticRegression()\n",
    "algoritmoLR.fit(X_train, y_train)\n",
    "Y_pred=algoritmoLR.predict(X_test)\n",
    "print('Precisión Regresión Logistica: {}'.format(algoritmoLR.score(X_train,y_train)))"
   ]
  },
  {
   "cell_type": "code",
   "execution_count": null,
   "id": "7259e7f0",
   "metadata": {
    "colab": {
     "base_uri": "https://localhost:8080/"
    },
    "id": "7259e7f0",
    "outputId": "b7e622ff-be32-4414-8652-7c4c34d02bf9"
   },
   "outputs": [
    {
     "data": {
      "text/plain": [
       "(3189, 25)"
      ]
     },
     "execution_count": 37,
     "metadata": {},
     "output_type": "execute_result"
    }
   ],
   "source": [
    "DF2.shape"
   ]
  },
  {
   "cell_type": "markdown",
   "id": "kfZdKSCA5krz",
   "metadata": {
    "id": "kfZdKSCA5krz"
   },
   "source": [
    "###En este apartado nos encontramos con la etapa de modelo (MODELING), a continuacion podemos ver 3 modelos, un \"Decision Tree Classifier\", \"Support Vector Classifier\" y un \"Kneighbors Classifier\" "
   ]
  },
  {
   "cell_type": "markdown",
   "id": "CZ4oC2n_zdwt",
   "metadata": {
    "id": "CZ4oC2n_zdwt"
   },
   "source": [
    "###Metodo de clasificación DECISIONTREECLASSIFIER"
   ]
  },
  {
   "cell_type": "code",
   "execution_count": null,
   "id": "5ea26e49",
   "metadata": {
    "colab": {
     "base_uri": "https://localhost:8080/"
    },
    "id": "5ea26e49",
    "outputId": "f50d0f98-cb9f-4fb7-89e2-3fdb7ab20597"
   },
   "outputs": [
    {
     "name": "stdout",
     "output_type": "stream",
     "text": [
      "Precisión Decision Tree Classifier: 1.0\n"
     ]
    }
   ],
   "source": [
    "algoritmoDT= DecisionTreeClassifier()\n",
    "algoritmoDT.fit(X_train, y_train)\n",
    "Y_pred=algoritmoDT.predict(X_test)\n",
    "print('Precisión Decision Tree Classifier: {}'.format(algoritmoDT.score(X_train,y_train)))"
   ]
  },
  {
   "cell_type": "markdown",
   "id": "-Y4YKBsYzqQd",
   "metadata": {
    "id": "-Y4YKBsYzqQd"
   },
   "source": [
    "###Metodo de clasificación SVC (Support Vector Classifier)"
   ]
  },
  {
   "cell_type": "code",
   "execution_count": null,
   "id": "9c8d054b",
   "metadata": {
    "colab": {
     "base_uri": "https://localhost:8080/"
    },
    "id": "9c8d054b",
    "outputId": "541b762b-f503-41b4-dc6b-cad9bf1c123a"
   },
   "outputs": [
    {
     "name": "stdout",
     "output_type": "stream",
     "text": [
      "Precisión SVC: 0.7293906810035843\n"
     ]
    }
   ],
   "source": [
    "algoritmoSVC= SVC()\n",
    "algoritmoSVC.fit(X_train, y_train)\n",
    "Y_pred=algoritmoSVC.predict(X_test)\n",
    "print('Precisión SVC: {}'.format(algoritmoSVC.score(X_train,y_train)))"
   ]
  },
  {
   "cell_type": "markdown",
   "id": "OsR-rUhEz_hi",
   "metadata": {
    "id": "OsR-rUhEz_hi"
   },
   "source": [
    "###Metodo de clasificación de KNEIGHBORSCLASSIFIER (vecinos cercanos)"
   ]
  },
  {
   "cell_type": "code",
   "execution_count": null,
   "id": "vuzC3EGmlmv5",
   "metadata": {
    "colab": {
     "base_uri": "https://localhost:8080/"
    },
    "id": "vuzC3EGmlmv5",
    "outputId": "6e94abe3-9378-4054-fce1-ded7065c05c1"
   },
   "outputs": [
    {
     "name": "stdout",
     "output_type": "stream",
     "text": [
      "Precisión KNeighborsClassifier: 0.9310035842293907\n"
     ]
    }
   ],
   "source": [
    "algoritmoSNK= KNeighborsClassifier()\n",
    "algoritmoSNK.fit(X_train, y_train)\n",
    "Y_pred=algoritmoSNK.predict(X_test)\n",
    "print('Precisión KNeighborsClassifier: {}'.format(algoritmoSNK.score(X_train,y_train)))"
   ]
  },
  {
   "cell_type": "markdown",
   "id": "pSB44Nmv1Bw6",
   "metadata": {
    "id": "pSB44Nmv1Bw6"
   },
   "source": [
    "###En este apartado comenzaremos con la etapa de evaluacion de la data (EVALUATION). Con el fin de determinar que metodo de clasificación es el mejor."
   ]
  },
  {
   "cell_type": "markdown",
   "id": "-opxE1wD0JB7",
   "metadata": {
    "id": "-opxE1wD0JB7"
   },
   "source": [
    "###En este caso podemos determinar que el **DECISION TREE CLASSIFIER** tiene una puntación de 1.0, a diferencia de los otros dos metodos de clasificación que dan una puntación de 0.73 para el SVC y una puntación de 0.93 para KNEIGHBORSCLASSIFIER.\n",
    "###Por último, llegamos a la etapa de desplegar los resultados (DEPLOYMENT), probaremos si nuestro modelo puede predecir."
   ]
  },
  {
   "cell_type": "code",
   "execution_count": null,
   "id": "E9Mfc5N7qnVk",
   "metadata": {
    "colab": {
     "base_uri": "https://localhost:8080/",
     "height": 771
    },
    "id": "E9Mfc5N7qnVk",
    "outputId": "72f7143e-de16-46fb-b37c-94fc4d952ee1"
   },
   "outputs": [
    {
     "data": {
      "text/html": [
       "\n",
       "  <div id=\"df-a027895a-933c-4137-95d7-56978be0b348\">\n",
       "    <div class=\"colab-df-container\">\n",
       "      <div>\n",
       "<style scoped>\n",
       "    .dataframe tbody tr th:only-of-type {\n",
       "        vertical-align: middle;\n",
       "    }\n",
       "\n",
       "    .dataframe tbody tr th {\n",
       "        vertical-align: top;\n",
       "    }\n",
       "\n",
       "    .dataframe thead th {\n",
       "        text-align: right;\n",
       "    }\n",
       "</style>\n",
       "<table border=\"1\" class=\"dataframe\">\n",
       "  <thead>\n",
       "    <tr style=\"text-align: right;\">\n",
       "      <th></th>\n",
       "      <th>136356</th>\n",
       "      <th>138044</th>\n",
       "      <th>136008</th>\n",
       "    </tr>\n",
       "  </thead>\n",
       "  <tbody>\n",
       "    <tr>\n",
       "      <th>RainTomorrow</th>\n",
       "      <td>1.0</td>\n",
       "      <td>0.0</td>\n",
       "      <td>0.000000</td>\n",
       "    </tr>\n",
       "    <tr>\n",
       "      <th>MinTemp</th>\n",
       "      <td>25.7</td>\n",
       "      <td>17.7</td>\n",
       "      <td>22.900000</td>\n",
       "    </tr>\n",
       "    <tr>\n",
       "      <th>MaxTemp</th>\n",
       "      <td>32.4</td>\n",
       "      <td>31.6</td>\n",
       "      <td>34.300000</td>\n",
       "    </tr>\n",
       "    <tr>\n",
       "      <th>Rainfall</th>\n",
       "      <td>0.0</td>\n",
       "      <td>0.0</td>\n",
       "      <td>0.000000</td>\n",
       "    </tr>\n",
       "    <tr>\n",
       "      <th>Evaporation</th>\n",
       "      <td>6.2</td>\n",
       "      <td>5.4</td>\n",
       "      <td>6.324873</td>\n",
       "    </tr>\n",
       "    <tr>\n",
       "      <th>Sunshine</th>\n",
       "      <td>8.9</td>\n",
       "      <td>10.7</td>\n",
       "      <td>10.500000</td>\n",
       "    </tr>\n",
       "    <tr>\n",
       "      <th>WindGustDir</th>\n",
       "      <td>1.0</td>\n",
       "      <td>2.0</td>\n",
       "      <td>6.000000</td>\n",
       "    </tr>\n",
       "    <tr>\n",
       "      <th>WindGustSpeed</th>\n",
       "      <td>37.0</td>\n",
       "      <td>41.0</td>\n",
       "      <td>37.000000</td>\n",
       "    </tr>\n",
       "    <tr>\n",
       "      <th>WindDir9am</th>\n",
       "      <td>5.0</td>\n",
       "      <td>0.0</td>\n",
       "      <td>1.000000</td>\n",
       "    </tr>\n",
       "    <tr>\n",
       "      <th>WindDir3pm</th>\n",
       "      <td>7.0</td>\n",
       "      <td>2.0</td>\n",
       "      <td>6.000000</td>\n",
       "    </tr>\n",
       "    <tr>\n",
       "      <th>WindSpeed9am</th>\n",
       "      <td>19.0</td>\n",
       "      <td>17.0</td>\n",
       "      <td>7.000000</td>\n",
       "    </tr>\n",
       "    <tr>\n",
       "      <th>WindSpeed3pm</th>\n",
       "      <td>17.0</td>\n",
       "      <td>19.0</td>\n",
       "      <td>22.000000</td>\n",
       "    </tr>\n",
       "    <tr>\n",
       "      <th>Humidity9am</th>\n",
       "      <td>77.0</td>\n",
       "      <td>73.0</td>\n",
       "      <td>54.000000</td>\n",
       "    </tr>\n",
       "    <tr>\n",
       "      <th>Humidity3pm</th>\n",
       "      <td>56.0</td>\n",
       "      <td>20.0</td>\n",
       "      <td>45.000000</td>\n",
       "    </tr>\n",
       "    <tr>\n",
       "      <th>Pressure9am</th>\n",
       "      <td>1013.3</td>\n",
       "      <td>1016.9</td>\n",
       "      <td>1015.500000</td>\n",
       "    </tr>\n",
       "    <tr>\n",
       "      <th>Pressure3pm</th>\n",
       "      <td>1010.2</td>\n",
       "      <td>1011.6</td>\n",
       "      <td>1010.800000</td>\n",
       "    </tr>\n",
       "    <tr>\n",
       "      <th>Cloud3pm</th>\n",
       "      <td>6.0</td>\n",
       "      <td>5.0</td>\n",
       "      <td>3.000000</td>\n",
       "    </tr>\n",
       "    <tr>\n",
       "      <th>Temp3pm</th>\n",
       "      <td>31.3</td>\n",
       "      <td>31.3</td>\n",
       "      <td>31.800000</td>\n",
       "    </tr>\n",
       "    <tr>\n",
       "      <th>RainToday</th>\n",
       "      <td>0.0</td>\n",
       "      <td>0.0</td>\n",
       "      <td>0.000000</td>\n",
       "    </tr>\n",
       "    <tr>\n",
       "      <th>RISK_MM</th>\n",
       "      <td>9.2</td>\n",
       "      <td>0.0</td>\n",
       "      <td>0.000000</td>\n",
       "    </tr>\n",
       "    <tr>\n",
       "      <th>Day</th>\n",
       "      <td>9.0</td>\n",
       "      <td>22.0</td>\n",
       "      <td>26.000000</td>\n",
       "    </tr>\n",
       "    <tr>\n",
       "      <th>Month</th>\n",
       "      <td>9.0</td>\n",
       "      <td>7.0</td>\n",
       "      <td>9.000000</td>\n",
       "    </tr>\n",
       "    <tr>\n",
       "      <th>Year</th>\n",
       "      <td>2009.0</td>\n",
       "      <td>2014.0</td>\n",
       "      <td>2008.000000</td>\n",
       "    </tr>\n",
       "  </tbody>\n",
       "</table>\n",
       "</div>\n",
       "      <button class=\"colab-df-convert\" onclick=\"convertToInteractive('df-a027895a-933c-4137-95d7-56978be0b348')\"\n",
       "              title=\"Convert this dataframe to an interactive table.\"\n",
       "              style=\"display:none;\">\n",
       "        \n",
       "  <svg xmlns=\"http://www.w3.org/2000/svg\" height=\"24px\"viewBox=\"0 0 24 24\"\n",
       "       width=\"24px\">\n",
       "    <path d=\"M0 0h24v24H0V0z\" fill=\"none\"/>\n",
       "    <path d=\"M18.56 5.44l.94 2.06.94-2.06 2.06-.94-2.06-.94-.94-2.06-.94 2.06-2.06.94zm-11 1L8.5 8.5l.94-2.06 2.06-.94-2.06-.94L8.5 2.5l-.94 2.06-2.06.94zm10 10l.94 2.06.94-2.06 2.06-.94-2.06-.94-.94-2.06-.94 2.06-2.06.94z\"/><path d=\"M17.41 7.96l-1.37-1.37c-.4-.4-.92-.59-1.43-.59-.52 0-1.04.2-1.43.59L10.3 9.45l-7.72 7.72c-.78.78-.78 2.05 0 2.83L4 21.41c.39.39.9.59 1.41.59.51 0 1.02-.2 1.41-.59l7.78-7.78 2.81-2.81c.8-.78.8-2.07 0-2.86zM5.41 20L4 18.59l7.72-7.72 1.47 1.35L5.41 20z\"/>\n",
       "  </svg>\n",
       "      </button>\n",
       "      \n",
       "  <style>\n",
       "    .colab-df-container {\n",
       "      display:flex;\n",
       "      flex-wrap:wrap;\n",
       "      gap: 12px;\n",
       "    }\n",
       "\n",
       "    .colab-df-convert {\n",
       "      background-color: #E8F0FE;\n",
       "      border: none;\n",
       "      border-radius: 50%;\n",
       "      cursor: pointer;\n",
       "      display: none;\n",
       "      fill: #1967D2;\n",
       "      height: 32px;\n",
       "      padding: 0 0 0 0;\n",
       "      width: 32px;\n",
       "    }\n",
       "\n",
       "    .colab-df-convert:hover {\n",
       "      background-color: #E2EBFA;\n",
       "      box-shadow: 0px 1px 2px rgba(60, 64, 67, 0.3), 0px 1px 3px 1px rgba(60, 64, 67, 0.15);\n",
       "      fill: #174EA6;\n",
       "    }\n",
       "\n",
       "    [theme=dark] .colab-df-convert {\n",
       "      background-color: #3B4455;\n",
       "      fill: #D2E3FC;\n",
       "    }\n",
       "\n",
       "    [theme=dark] .colab-df-convert:hover {\n",
       "      background-color: #434B5C;\n",
       "      box-shadow: 0px 1px 3px 1px rgba(0, 0, 0, 0.15);\n",
       "      filter: drop-shadow(0px 1px 2px rgba(0, 0, 0, 0.3));\n",
       "      fill: #FFFFFF;\n",
       "    }\n",
       "  </style>\n",
       "\n",
       "      <script>\n",
       "        const buttonEl =\n",
       "          document.querySelector('#df-a027895a-933c-4137-95d7-56978be0b348 button.colab-df-convert');\n",
       "        buttonEl.style.display =\n",
       "          google.colab.kernel.accessAllowed ? 'block' : 'none';\n",
       "\n",
       "        async function convertToInteractive(key) {\n",
       "          const element = document.querySelector('#df-a027895a-933c-4137-95d7-56978be0b348');\n",
       "          const dataTable =\n",
       "            await google.colab.kernel.invokeFunction('convertToInteractive',\n",
       "                                                     [key], {});\n",
       "          if (!dataTable) return;\n",
       "\n",
       "          const docLinkHtml = 'Like what you see? Visit the ' +\n",
       "            '<a target=\"_blank\" href=https://colab.research.google.com/notebooks/data_table.ipynb>data table notebook</a>'\n",
       "            + ' to learn more about interactive tables.';\n",
       "          element.innerHTML = '';\n",
       "          dataTable['output_type'] = 'display_data';\n",
       "          await google.colab.output.renderOutput(dataTable, element);\n",
       "          const docLink = document.createElement('div');\n",
       "          docLink.innerHTML = docLinkHtml;\n",
       "          element.appendChild(docLink);\n",
       "        }\n",
       "      </script>\n",
       "    </div>\n",
       "  </div>\n",
       "  "
      ],
      "text/plain": [
       "               136356  138044       136008\n",
       "RainTomorrow      1.0     0.0     0.000000\n",
       "MinTemp          25.7    17.7    22.900000\n",
       "MaxTemp          32.4    31.6    34.300000\n",
       "Rainfall          0.0     0.0     0.000000\n",
       "Evaporation       6.2     5.4     6.324873\n",
       "Sunshine          8.9    10.7    10.500000\n",
       "WindGustDir       1.0     2.0     6.000000\n",
       "WindGustSpeed    37.0    41.0    37.000000\n",
       "WindDir9am        5.0     0.0     1.000000\n",
       "WindDir3pm        7.0     2.0     6.000000\n",
       "WindSpeed9am     19.0    17.0     7.000000\n",
       "WindSpeed3pm     17.0    19.0    22.000000\n",
       "Humidity9am      77.0    73.0    54.000000\n",
       "Humidity3pm      56.0    20.0    45.000000\n",
       "Pressure9am    1013.3  1016.9  1015.500000\n",
       "Pressure3pm    1010.2  1011.6  1010.800000\n",
       "Cloud3pm          6.0     5.0     3.000000\n",
       "Temp3pm          31.3    31.3    31.800000\n",
       "RainToday         0.0     0.0     0.000000\n",
       "RISK_MM           9.2     0.0     0.000000\n",
       "Day               9.0    22.0    26.000000\n",
       "Month             9.0     7.0     9.000000\n",
       "Year           2009.0  2014.0  2008.000000"
      ]
     },
     "execution_count": 41,
     "metadata": {},
     "output_type": "execute_result"
    }
   ],
   "source": [
    "DFP.sample(3).T"
   ]
  },
  {
   "cell_type": "code",
   "execution_count": null,
   "id": "a961e20e",
   "metadata": {
    "colab": {
     "base_uri": "https://localhost:8080/"
    },
    "id": "a961e20e",
    "outputId": "8984ae1c-d35b-4087-d86b-1bc5fa9872b3"
   },
   "outputs": [
    {
     "name": "stdout",
     "output_type": "stream",
     "text": [
      "Ingrese MinTemp: 18.0\n",
      "Ingrese MaxTemp: 31.0\n",
      "Ingrese Rainfall: 0.0\n",
      "Ingrese Evaporation: 0.0\n",
      "Ingrese Sunshine: 8.0\n",
      "Ingrese WindGustDir: 5.6\n",
      "Ingrese WindGustSpeed: 33\n",
      "Ingrese WindDir9am: 14.0\n",
      "Ingrese WindDir3pm: 14.0\n",
      "Ingrese WindSpeed9am: 13.0\n",
      "Ingrese WindSpeed3pm: 13.0\n",
      "Ingrese Humidity9am: 50.0\n",
      "Ingrese Humidity3pm: 31.0\n",
      "Ingrese Pressure9am: 1004.0\n",
      "Ingrese Pressure3pm: 1003.0\n",
      "Ingrese Cloud3pm: 8.0\n",
      "Ingrese Temp3pm: 31.08\n",
      "Ingrese RainToday: 0\n",
      "Ingrese RISK_MM: 5.0\n",
      "Ingrese dia: 19\n",
      "Ingrese mes: 05\n",
      "Ingrese annio: 2023\n",
      "Llovera Mañana\n",
      "con la prediccion del 1.0 \n"
     ]
    }
   ],
   "source": [
    "#'MinTemp', 'MaxTemp', 'Rainfall', 'Evaporation', 'Sunshine', 'WindGustDir','WindGustSpeed', \n",
    "#'WindDir9am', 'WindDir3pm','WindSpeed9am', 'WindSpeed3pm','Humidity9am','Humidity3pm', \n",
    "#'Pressure9am', 'Pressure3pm','Cloud3pm', 'Temp3pm','RainToday', 'RISK_MM','Day','Month','Year'\n",
    "\n",
    "mn=float(input('Ingrese MinTemp: '))\n",
    "mx=float(input('Ingrese MaxTemp: '))\n",
    "rf=float(input('Ingrese Rainfall: '))\n",
    "ev=float(input('Ingrese Evaporation: '))\n",
    "s=float(input('Ingrese Sunshine: '))\n",
    "wd=float(input('Ingrese WindGustDir: '))\n",
    "ws=float(input('Ingrese WindGustSpeed: '))\n",
    "w9=float(input('Ingrese WindDir9am: '))\n",
    "w3=float(input('Ingrese WindDir3pm: '))\n",
    "ws9=float(input('Ingrese WindSpeed9am: '))\n",
    "ws3=float(input('Ingrese WindSpeed3pm: '))\n",
    "h9=float(input('Ingrese Humidity9am: '))\n",
    "h3=float(input('Ingrese Humidity3pm: '))\n",
    "p9=float(input('Ingrese Pressure9am: '))\n",
    "p3=float(input('Ingrese Pressure3pm: '))\n",
    "c3=float(input('Ingrese Cloud3pm: '))\n",
    "t3=float(input('Ingrese Temp3pm: '))\n",
    "rt=float(input('Ingrese RainToday: '))\n",
    "rm=float(input('Ingrese RISK_MM: '))\n",
    "d=float(input('Ingrese dia: '))\n",
    "m=float(input('Ingrese mes: '))\n",
    "y=float(input('Ingrese annio: '))\n",
    "\n",
    "#X_train, y_train\n",
    "Algoritmo= DecisionTreeClassifier()\n",
    "Algoritmo.fit(X_train, y_train)\n",
    "resp = Algoritmo.predict([[mn,mx,rf,ev,s,wd,ws,w9,w3,ws9,ws3,h9,h3,p9,p3,c3,t3,rt,rm,d,m,y]])\n",
    "if resp == 1:\n",
    "    print('Llovera Mañana')\n",
    "else:\n",
    "    print('No llovera')\n",
    "\n",
    "print('con la prediccion del {} '.format(Algoritmo.score(X_train, y_train)))"
   ]
  },
  {
   "cell_type": "markdown",
   "id": "9OkBs40Wug42",
   "metadata": {
    "id": "9OkBs40Wug42"
   },
   "source": [
    "# Conclusión"
   ]
  },
  {
   "cell_type": "markdown",
   "id": "gU_vRNwgujek",
   "metadata": {
    "id": "gU_vRNwgujek"
   },
   "source": [
    "#### Como grupo creemos que el tratamiento de nulos, de los valores atipicos y la normalizacion es un paso muy relevante y critico a la hora de realizar mineria de datos. Es importante abordar esto de manera ordenada y adecuada, puesto que de lo contrario podría afectar de manera negativa al analisis y al querer realizar los modelos de datos.\n",
    "Frente a las pruebas realizadas y el testeo desarrollado en la presentacion se nos indica que debemos cambiar parametros y realizar un cambio en las variables predictoras."
   ]
  }
 ],
 "metadata": {
  "colab": {
   "provenance": []
  },
  "kernelspec": {
   "display_name": "Python 3 (ipykernel)",
   "language": "python",
   "name": "python3"
  },
  "language_info": {
   "codemirror_mode": {
    "name": "ipython",
    "version": 3
   },
   "file_extension": ".py",
   "mimetype": "text/x-python",
   "name": "python",
   "nbconvert_exporter": "python",
   "pygments_lexer": "ipython3",
   "version": "3.10.7"
  }
 },
 "nbformat": 4,
 "nbformat_minor": 5
}
